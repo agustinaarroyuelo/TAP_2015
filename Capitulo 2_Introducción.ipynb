{
 "cells": [
  {
   "cell_type": "markdown",
   "metadata": {},
   "source": [
    "<h1 align=\"center\">IPython: Beyond Normal Python</h1>\n",
    "\n",
    "#Shell or Notebook?\n",
    "\n",
    "\n",
    "\n",
    "#Acceso a la documentación con \"?\"\n",
    "\n",
    "- Python tiene una función integrada help() que accede a esta información e imprime los resultados.\n",
    "- IPython introduce el carácter \"?\" como un atajo para acceder a esta documentación y otra información relevante:"
   ]
  },
  {
   "cell_type": "code",
   "execution_count": 1,
   "metadata": {
    "collapsed": false
   },
   "outputs": [
    {
     "name": "stdout",
     "output_type": "stream",
     "text": [
      "Help on built-in function len in module __builtin__:\n",
      "\n",
      "len(...)\n",
      "    len(object) -> integer\n",
      "    \n",
      "    Return the number of items of a sequence or collection.\n",
      "\n"
     ]
    }
   ],
   "source": [
    "help(len)"
   ]
  },
  {
   "cell_type": "code",
   "execution_count": 2,
   "metadata": {
    "collapsed": false
   },
   "outputs": [],
   "source": [
    "len?"
   ]
  },
  {
   "cell_type": "code",
   "execution_count": 3,
   "metadata": {
    "collapsed": true
   },
   "outputs": [],
   "source": [
    "L = [1, 2, 3]\n",
    "L.insert?"
   ]
  },
  {
   "cell_type": "code",
   "execution_count": 4,
   "metadata": {
    "collapsed": true
   },
   "outputs": [],
   "source": [
    "def square(a):\n",
    "    \"\"\"Return the square of a.\"\"\"\n",
    "    return a ** 2"
   ]
  },
  {
   "cell_type": "code",
   "execution_count": 5,
   "metadata": {
    "collapsed": true
   },
   "outputs": [],
   "source": [
    " square?"
   ]
  },
  {
   "cell_type": "markdown",
   "metadata": {},
   "source": [
    "##Acediendo al código fuente con \"??\"\n",
    "IPython ofrece un acceso directo al código fuente con el doble signo de interrogación:"
   ]
  },
  {
   "cell_type": "code",
   "execution_count": 6,
   "metadata": {
    "collapsed": true
   },
   "outputs": [],
   "source": [
    " square??"
   ]
  },
  {
   "cell_type": "markdown",
   "metadata": {},
   "source": [
    "##Explorando Módulos con tabulador"
   ]
  },
  {
   "cell_type": "code",
   "execution_count": 7,
   "metadata": {
    "collapsed": false
   },
   "outputs": [
    {
     "ename": "SyntaxError",
     "evalue": "invalid syntax (<ipython-input-7-749de8a9b36a>, line 1)",
     "output_type": "error",
     "traceback": [
      "\u001b[1;36m  File \u001b[1;32m\"<ipython-input-7-749de8a9b36a>\"\u001b[1;36m, line \u001b[1;32m1\u001b[0m\n\u001b[1;33m    L.\u001b[0m\n\u001b[1;37m      ^\u001b[0m\n\u001b[1;31mSyntaxError\u001b[0m\u001b[1;31m:\u001b[0m invalid syntax\n"
     ]
    }
   ],
   "source": [
    "L."
   ]
  },
  {
   "cell_type": "markdown",
   "metadata": {},
   "source": [
    "###Tabulador cuando Importamos"
   ]
  },
  {
   "cell_type": "code",
   "execution_count": null,
   "metadata": {
    "collapsed": true
   },
   "outputs": [],
   "source": [
    "from itertools import co"
   ]
  },
  {
   "cell_type": "code",
   "execution_count": null,
   "metadata": {
    "collapsed": false
   },
   "outputs": [],
   "source": [
    "import h"
   ]
  },
  {
   "cell_type": "markdown",
   "metadata": {},
   "source": [
    "##Además del tabulador: Comodín de coincidencia\n",
    "IPython proporciona una forma de comodín de coincidencia para los nombres que utilizan el carácter \"*\"."
   ]
  },
  {
   "cell_type": "code",
   "execution_count": null,
   "metadata": {
    "collapsed": true
   },
   "outputs": [],
   "source": [
    "str.*find*?"
   ]
  },
  {
   "cell_type": "code",
   "execution_count": null,
   "metadata": {
    "collapsed": true
   },
   "outputs": [],
   "source": [
    "*Warning?"
   ]
  },
  {
   "cell_type": "markdown",
   "metadata": {},
   "source": [
    "##Atajos de teclado en el IPython Shell\n",
    "\n",
    "Esta sección trata principalmente de accesos directos en el IPython Shell.\n",
    "\n",
    "###Accesos directos de navegación\n",
    "\n",
    "<img src=\"img/naveg.png\">\n",
    "\n",
    "###Accesos directos de entrada de texto\n",
    "\n",
    "<img src=\"img/entrada.png\">\n",
    "\n",
    "###Accesos directos del historial de comandos\n",
    "\n",
    "En un sesión actual de IPython: todo su historial de comandos se almacena en una base de datos SQLite en el directorio del perfil de IPython. La forma más sencilla de acceder a estos es con las flechas arriba y abajo para desplazarse por el historial.\n",
    "\n",
    "<img src=\"img/historial.png\">\n",
    "\n",
    "###Accesos directos Misceláneos\n",
    "\n",
    "<img src=\"img/misce.png\">\n",
    "\n",
    "##Comandos mágicos de IPython\n",
    "\n",
    "- Aquí comenzaremos discutiendo algunas de las mejoras que IPython añade en la parte superior de la sintaxis normal de Python. Estos son conocidos en IPython como comandos de magia, y están precedidos por el carácter %.\n",
    "\n",
    "- Estos comandos mágicos están diseñados para resolver brevemente varios problemas comunes en el análisis de datos estándar.\n",
    "\n",
    "- Se clasifican en magia de línea, denotados por un sol prefijo % y que operan en una sola línea de entrada; y magias celular (cell), indican mediante un prefijo doble %% y que operan en varias líneas de entrada\n",
    "\n",
    "##Pegar bloques de código: %paste and %cpaste\n",
    "\n",
    "En IPython algo común es que al pegar los bloques de código multiples línea puedan conducir a errores inesperados, sobre todo cuando los marcadores de sangría y de intérprete están involucrados. Un caso común es que usted encuentre un código en un sitio web y quieres pegarlo en su intérprete.\n"
   ]
  },
  {
   "cell_type": "code",
   "execution_count": null,
   "metadata": {
    "collapsed": false,
    "scrolled": true
   },
   "outputs": [],
   "source": [
    "def donothing(x):\n",
    "... return x"
   ]
  },
  {
   "cell_type": "code",
   "execution_count": null,
   "metadata": {
    "collapsed": false
   },
   "outputs": [],
   "source": [
    "%paste\n",
    "def donothing(x):\n",
    "... return x - 1"
   ]
  },
  {
   "cell_type": "code",
   "execution_count": null,
   "metadata": {
    "collapsed": false
   },
   "outputs": [],
   "source": [
    "%cpaste\n",
    "Pasting code; enter '--' alone on the line to stop or use Ctrl-D.\n",
    ":>>> def donothing(x):\n",
    ":...     return x"
   ]
  },
  {
   "cell_type": "markdown",
   "metadata": {},
   "source": [
    "##Ejecución de código externo: %run\n",
    " \n",
    "En lugar de ejecutar este código en una ventana nueva, puede ser conveniente ejecutarlo en su sesión IPython. Esto se puede hacer con la magia %run. Por ejemplo, imagine que ha creado el archivo siguiente en myscript.py\n",
    "\n"
   ]
  },
  {
   "cell_type": "code",
   "execution_count": null,
   "metadata": {
    "collapsed": true
   },
   "outputs": [],
   "source": [
    "#-------------------------------------\n",
    "# file: myscript.py\n",
    "def square(x):\n",
    "    \"\"\"square a number\"\"\"\n",
    "    return x ** 2\n",
    "for N in range(1, 4):\n",
    "    print(N, \"squared is\", square(N))"
   ]
  },
  {
   "cell_type": "raw",
   "metadata": {},
   "source": [
    "In [6]: %run myscript.py\n",
    "1 squared is 1\n",
    "2 squared is 4\n",
    "3 squared is 9"
   ]
  },
  {
   "cell_type": "markdown",
   "metadata": {},
   "source": [
    "##Temporización ejecución de código:% timeit\n",
    "\n",
    "- Determinará automáticamente el tiempo de ejecución de la sentencia de Python\n"
   ]
  },
  {
   "cell_type": "code",
   "execution_count": null,
   "metadata": {
    "collapsed": false
   },
   "outputs": [],
   "source": [
    "%timeit L = [n ** 2 for n in range(1000)]"
   ]
  },
  {
   "cell_type": "code",
   "execution_count": null,
   "metadata": {
    "collapsed": false
   },
   "outputs": [],
   "source": [
    "%%timeit\n",
    "L = []\n",
    "for n in range(1000):\n",
    "    L.append(n ** 2)\n",
    "    "
   ]
  },
  {
   "cell_type": "markdown",
   "metadata": {},
   "source": [
    "##Ayuda sobre funciones mágicas: ?, %magic y %lsmagic\n",
    "\n",
    "Una cosa útil saber es que las funciones mágicas IPython tienen docstrings como funciones normales de Python, y esta documentación se puede acceder de la manera estándar."
   ]
  },
  {
   "cell_type": "code",
   "execution_count": null,
   "metadata": {
    "collapsed": true
   },
   "outputs": [],
   "source": [
    "%timeit?"
   ]
  },
  {
   "cell_type": "code",
   "execution_count": null,
   "metadata": {
    "collapsed": true
   },
   "outputs": [],
   "source": [
    "# Para acceder a una descripción general de las funciones de magia disponibles, escribimos:\n",
    "%magic"
   ]
  },
  {
   "cell_type": "code",
   "execution_count": null,
   "metadata": {
    "collapsed": false
   },
   "outputs": [],
   "source": [
    "#Para obtener una lista rápida y sencilla de todas las funciones de magia disponibles:\n",
    "%lsmagic"
   ]
  },
  {
   "cell_type": "markdown",
   "metadata": {},
   "source": [
    "#Objetos de entrada y salida de IPython\n",
    "El objeto \"In\" esta en una lista, que realiza un seguimiento de los comandos en orden (el primer elemento de la lista es un lugar titular para que \"In[1]\" se refiere a la primera orden:"
   ]
  },
  {
   "cell_type": "code",
   "execution_count": 9,
   "metadata": {
    "collapsed": false
   },
   "outputs": [
    {
     "name": "stdout",
     "output_type": "stream",
     "text": [
      "help(len)\n"
     ]
    }
   ],
   "source": [
    "print(In[1])"
   ]
  },
  {
   "cell_type": "code",
   "execution_count": 21,
   "metadata": {
    "collapsed": false
   },
   "outputs": [
    {
     "data": {
      "text/plain": [
       "0.9092974268256817"
      ]
     },
     "execution_count": 21,
     "metadata": {},
     "output_type": "execute_result"
    }
   ],
   "source": [
    "# no todas las operaciones tienen salidas\n",
    "import math\n",
    "math.sin(2)"
   ]
  },
  {
   "cell_type": "code",
   "execution_count": 22,
   "metadata": {
    "collapsed": false
   },
   "outputs": [
    {
     "name": "stdout",
     "output_type": "stream",
     "text": [
      "0.909297426826\n"
     ]
    }
   ],
   "source": [
    " print(Out[21])"
   ]
  },
  {
   "cell_type": "code",
   "execution_count": 23,
   "metadata": {
    "collapsed": false
   },
   "outputs": [
    {
     "data": {
      "text/plain": [
       "10.909297426825681"
      ]
     },
     "execution_count": 23,
     "metadata": {},
     "output_type": "execute_result"
    }
   ],
   "source": [
    "Out[21] + 10"
   ]
  },
  {
   "cell_type": "markdown",
   "metadata": {},
   "source": [
    "##Destacar Accesos directos y salidas anteriores\n",
    "\n",
    "La terminal de Python estándar contiene un sencillo acceso directo para acceder a la producción anterior; la variable \"_\" y esto funciona en IPython así:"
   ]
  },
  {
   "cell_type": "code",
   "execution_count": 29,
   "metadata": {
    "collapsed": false
   },
   "outputs": [
    {
     "name": "stdout",
     "output_type": "stream",
     "text": [
      "10.9092974268\n"
     ]
    }
   ],
   "source": [
    "print(_)"
   ]
  },
  {
   "cell_type": "code",
   "execution_count": 36,
   "metadata": {
    "collapsed": false
   },
   "outputs": [
    {
     "data": {
      "text/plain": [
       "10.909297426825681"
      ]
     },
     "execution_count": 36,
     "metadata": {},
     "output_type": "execute_result"
    }
   ],
   "source": [
    "_23"
   ]
  },
  {
   "cell_type": "markdown",
   "metadata": {},
   "source": [
    "##La supresión de salida\n",
    "\n",
    "- A veces es posible que desee suprimir la salida de un enunciado cuando el comando que se esta ejecutando produce un resultado que no deseamos almacenar en nuestro historial de salida.\n",
    "- La forma más fácil para suprimir la salida de un comando es agregar un punto y coma al final de la línea."
   ]
  },
  {
   "cell_type": "code",
   "execution_count": 43,
   "metadata": {
    "collapsed": false
   },
   "outputs": [],
   "source": [
    "math.sin(2) + math.cos(2);"
   ]
  },
  {
   "cell_type": "code",
   "execution_count": 44,
   "metadata": {
    "collapsed": false
   },
   "outputs": [
    {
     "data": {
      "text/plain": [
       "False"
      ]
     },
     "execution_count": 44,
     "metadata": {},
     "output_type": "execute_result"
    }
   ],
   "source": [
    "43 in Out"
   ]
  },
  {
   "cell_type": "code",
   "execution_count": 45,
   "metadata": {
    "collapsed": false
   },
   "outputs": [
    {
     "name": "stdout",
     "output_type": "stream",
     "text": [
      "   1: help(len)\n",
      "   2: len?\n",
      "   3:\n",
      "L = [1, 2, 3]\n",
      "L.insert?\n",
      "   4:\n",
      "def square(a):\n",
      "    \"\"\"Return the square of a.\"\"\"\n",
      "    return a ** 2\n"
     ]
    }
   ],
   "source": [
    "### Comandos de magia relacionados\n",
    "\n",
    "%history -n 1-4"
   ]
  },
  {
   "cell_type": "markdown",
   "metadata": {},
   "source": [
    "##IPython y Comandos de Shell\n",
    "\n",
    "IPython da una sintaxis para ejecutar comandos de shell directamente desde el terminal IPython. Esto sucede con el signo de exclamación: cualquier cosa que aparece después de \"!\" línea no será ejecutada por el núcleo de Python, sino por la línea de comandos del sistema"
   ]
  },
  {
   "cell_type": "code",
   "execution_count": 46,
   "metadata": {
    "collapsed": false
   },
   "outputs": [
    {
     "name": "stdout",
     "output_type": "stream",
     "text": [
      "/home/ezequiel/Escritorio/Seminario\r\n"
     ]
    }
   ],
   "source": [
    "!pwd"
   ]
  },
  {
   "cell_type": "code",
   "execution_count": 47,
   "metadata": {
    "collapsed": false
   },
   "outputs": [
    {
     "name": "stdout",
     "output_type": "stream",
     "text": [
      "Capitulo 1.ipynb  Capitulo 2.ipynb  img  Python_Data_Science_Handbook.pdf\r\n"
     ]
    }
   ],
   "source": [
    "!ls"
   ]
  },
  {
   "cell_type": "code",
   "execution_count": 48,
   "metadata": {
    "collapsed": false
   },
   "outputs": [
    {
     "name": "stdout",
     "output_type": "stream",
     "text": [
      "['Capitulo 1.ipynb', 'Capitulo 2.ipynb', 'img', 'Python_Data_Science_Handbook.pdf'] \n",
      "['/home/ezequiel/Escritorio/Seminario']\n"
     ]
    }
   ],
   "source": [
    "### Se puede guardar la salida de cualquier comando de shell a una lista Python usando el operador de asignación:\n",
    "\n",
    "contents = !ls\n",
    "directory = !pwd\n",
    "print contents, \"\\n\", directory\n",
    "\n",
    "### no se puede usar !cd para navegar por el sistema de archivos:"
   ]
  },
  {
   "cell_type": "markdown",
   "metadata": {},
   "source": [
    "###Si desea cambiar el directorio de trabajo de un modo más duradero, se puede utilizar el comando magico %cd o también se puede utilizar los comandos sin el signo"
   ]
  },
  {
   "cell_type": "code",
   "execution_count": 52,
   "metadata": {
    "collapsed": false
   },
   "outputs": [
    {
     "data": {
      "text/plain": [
       "u'/home/ezequiel/Escritorio'"
      ]
     },
     "execution_count": 52,
     "metadata": {},
     "output_type": "execute_result"
    }
   ],
   "source": [
    "pwd"
   ]
  }
 ],
 "metadata": {
  "kernelspec": {
   "display_name": "Python 2",
   "language": "python",
   "name": "python2"
  },
  "language_info": {
   "codemirror_mode": {
    "name": "ipython",
    "version": 2
   },
   "file_extension": ".py",
   "mimetype": "text/x-python",
   "name": "python",
   "nbconvert_exporter": "python",
   "pygments_lexer": "ipython2",
   "version": "2.7.10"
  }
 },
 "nbformat": 4,
 "nbformat_minor": 0
}
