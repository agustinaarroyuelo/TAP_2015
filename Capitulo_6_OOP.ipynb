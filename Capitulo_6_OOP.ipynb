{
 "cells": [
  {
   "cell_type": "markdown",
   "metadata": {},
   "source": [
    "# Object Oriented Programming\n",
    "It's a programming paradigm in which programmers define not only the data type of a data structure, but also the types of operations (functions) that can be applied to the data structure. In this way, the data structure becomes an **object** that includes both **data** and **functions**."
   ]
  },
  {
   "cell_type": "code",
   "execution_count": 4,
   "metadata": {
    "collapsed": false
   },
   "outputs": [],
   "source": [
    "import math\n",
    "import copy\n",
    "from World import World\n",
    "from datetime import*"
   ]
  },
  {
   "cell_type": "markdown",
   "metadata": {
    "collapsed": true
   },
   "source": [
    "### Classes and objects"
   ]
  },
  {
   "cell_type": "markdown",
   "metadata": {},
   "source": [
    "#### Built-in types"
   ]
  },
  {
   "cell_type": "code",
   "execution_count": 5,
   "metadata": {
    "collapsed": false
   },
   "outputs": [
    {
     "data": {
      "text/plain": [
       "set"
      ]
     },
     "execution_count": 5,
     "metadata": {},
     "output_type": "execute_result"
    }
   ],
   "source": [
    "type({\"lala\"})"
   ]
  },
  {
   "cell_type": "markdown",
   "metadata": {},
   "source": [
    "#### User-defined types\n",
    "Definition of a type called **Point** that represents a point in two-dimensional\n",
    "space.\n",
    "There are several ways we might represent points in Python:\n",
    "\n",
    "• We could store the coordinates separately in two variables, x and y.\n"
   ]
  },
  {
   "cell_type": "code",
   "execution_count": 6,
   "metadata": {
    "collapsed": true
   },
   "outputs": [],
   "source": [
    "x=0\n",
    "y=0"
   ]
  },
  {
   "cell_type": "markdown",
   "metadata": {},
   "source": [
    "• We could store the coordinates as elements in a list or tuple."
   ]
  },
  {
   "cell_type": "code",
   "execution_count": 7,
   "metadata": {
    "collapsed": true
   },
   "outputs": [],
   "source": [
    "coord=[x,y]\n",
    "coord=(x,y)"
   ]
  },
  {
   "cell_type": "markdown",
   "metadata": {},
   "source": [
    "• We could create a new type to represent points as objects."
   ]
  },
  {
   "cell_type": "markdown",
   "metadata": {},
   "source": [
    "A user-defined type is also called a **class**. A class definition looks like this:"
   ]
  },
  {
   "cell_type": "code",
   "execution_count": 8,
   "metadata": {
    "collapsed": false
   },
   "outputs": [],
   "source": [
    "class Point(object):\n",
    "    \"\"\"Represents a point in 2-D space.\"\"\""
   ]
  },
  {
   "cell_type": "markdown",
   "metadata": {},
   "source": [
    "This header indicates that the new class is a Point, which is a kind of object, which is a\n",
    "built-in type."
   ]
  },
  {
   "cell_type": "code",
   "execution_count": 9,
   "metadata": {
    "collapsed": false
   },
   "outputs": [
    {
     "name": "stdout",
     "output_type": "stream",
     "text": [
      "<class '__main__.Point'>\n"
     ]
    }
   ],
   "source": [
    "print (Point)"
   ]
  },
  {
   "cell_type": "markdown",
   "metadata": {},
   "source": [
    "Because Point is defined at the top level, its “full name” is **__ main __.Point**"
   ]
  },
  {
   "cell_type": "markdown",
   "metadata": {},
   "source": [
    "To create a point we call the Point class as if it were a function"
   ]
  },
  {
   "cell_type": "code",
   "execution_count": 10,
   "metadata": {
    "collapsed": false
   },
   "outputs": [
    {
     "name": "stdout",
     "output_type": "stream",
     "text": [
      "<__main__.Point object at 0x0000003AF51285F8>\n"
     ]
    }
   ],
   "source": [
    "blank= Point()\n",
    "print (blank)"
   ]
  },
  {
   "cell_type": "markdown",
   "metadata": {},
   "source": [
    "Creating a new object is called **instantiation**, and the object is an **instance** of the **class**."
   ]
  },
  {
   "cell_type": "code",
   "execution_count": 11,
   "metadata": {
    "collapsed": false
   },
   "outputs": [
    {
     "data": {
      "text/plain": [
       "__main__.Point"
      ]
     },
     "execution_count": 11,
     "metadata": {},
     "output_type": "execute_result"
    }
   ],
   "source": [
    "type(blank)"
   ]
  },
  {
   "cell_type": "markdown",
   "metadata": {},
   "source": [
    "### Attributes\n",
    "You can assign values to an instance using dot notation:"
   ]
  },
  {
   "cell_type": "code",
   "execution_count": 12,
   "metadata": {
    "collapsed": false
   },
   "outputs": [],
   "source": [
    "blank.x=5\n",
    "blank.y=4"
   ]
  },
  {
   "cell_type": "markdown",
   "metadata": {},
   "source": [
    "x and y are elements of the **blank** object. These elements are called **attributes**. To read the value of an attribute:"
   ]
  },
  {
   "cell_type": "code",
   "execution_count": 13,
   "metadata": {
    "collapsed": false
   },
   "outputs": [
    {
     "name": "stdout",
     "output_type": "stream",
     "text": [
      "4\n",
      "5\n"
     ]
    }
   ],
   "source": [
    "print(blank.y)\n",
    "x=blank.x\n",
    "print(x)"
   ]
  },
  {
   "cell_type": "markdown",
   "metadata": {},
   "source": [
    "The expression blank.x means, **“Go to the object blank refers to and get the value of x.”** There is no conflict between the variable x and the attribute x."
   ]
  },
  {
   "cell_type": "markdown",
   "metadata": {},
   "source": [
    "### Some examples"
   ]
  },
  {
   "cell_type": "code",
   "execution_count": 14,
   "metadata": {
    "collapsed": false
   },
   "outputs": [
    {
     "name": "stdout",
     "output_type": "stream",
     "text": [
      "(5, 4)\n",
      "6.4031242374328485\n"
     ]
    }
   ],
   "source": [
    "print (\"(%g, %g)\" % (blank.x, blank.y))\n",
    "distance = math.sqrt(blank.x**2 + blank.y**2)\n",
    "print (distance)"
   ]
  },
  {
   "cell_type": "code",
   "execution_count": 15,
   "metadata": {
    "collapsed": false
   },
   "outputs": [],
   "source": [
    "def print_point(p): #p is an alias for blank\n",
    "    print (\"(%g, %g)\" % (p.x, p.y))"
   ]
  },
  {
   "cell_type": "code",
   "execution_count": 16,
   "metadata": {
    "collapsed": false
   },
   "outputs": [
    {
     "name": "stdout",
     "output_type": "stream",
     "text": [
      "(5, 4)\n"
     ]
    }
   ],
   "source": [
    "print_point(blank)"
   ]
  },
  {
   "cell_type": "markdown",
   "metadata": {},
   "source": [
    "**Exercise 1**. Write a function called **distance_between_points** that takes two Points as arguments and returns the distance between them."
   ]
  },
  {
   "cell_type": "code",
   "execution_count": 17,
   "metadata": {
    "collapsed": false
   },
   "outputs": [
    {
     "data": {
      "text/plain": [
       "6.4031242374328485"
      ]
     },
     "execution_count": 17,
     "metadata": {},
     "output_type": "execute_result"
    }
   ],
   "source": [
    "#No OOP\n",
    "def distance_between_points(x,y):\n",
    "    \"\"\"Computes the distance between two Point objects.\"\"\"\n",
    "    distance = math.sqrt(x**2 + y**2)\n",
    "    return distance\n",
    "distance_between_points(5,4)\n",
    "\n",
    "#OOP\n",
    "def distance_between_points(blank): #also can use blank's alias, p\n",
    "    \"\"\"Computes the distance between two Point objects.\"\"\"\n",
    "    distance = math.sqrt(blank.x**2 + blank.y**2)\n",
    "    return distance\n",
    "distance_between_points(blank)"
   ]
  },
  {
   "cell_type": "markdown",
   "metadata": {},
   "source": [
    "#### Rectangles\n",
    "There are at least two possibilities:\n",
    "\n",
    "• You could specify one corner of the rectangle (or the center), the width, and the\n",
    "height.\n",
    "\n",
    "• You could specify two opposing corners."
   ]
  },
  {
   "cell_type": "code",
   "execution_count": 18,
   "metadata": {
    "collapsed": true
   },
   "outputs": [],
   "source": [
    "#First option\n",
    "class Rectangle(object):\n",
    "    \"\"\"Represents a rectangle. \n",
    "        attributes: width=int\n",
    "                    height=int\n",
    "                    corner=Point\"\"\""
   ]
  },
  {
   "cell_type": "code",
   "execution_count": 19,
   "metadata": {
    "collapsed": false
   },
   "outputs": [],
   "source": [
    "box=Rectangle()\n",
    "box.width= 100.0\n",
    "box.height= 200.0\n",
    "box.corner=Point()\n",
    "box.corner.x=0.0\n",
    "box.corner.y=0.0"
   ]
  },
  {
   "cell_type": "markdown",
   "metadata": {},
   "source": [
    "<img src=\"img/OOP_fig1.png\">"
   ]
  },
  {
   "cell_type": "markdown",
   "metadata": {},
   "source": [
    "Functions can return instances. For example, **find_center** takes a Rectangle as an argument and returns a Point that contains the coordinates of the center of the Rectangle:"
   ]
  },
  {
   "cell_type": "code",
   "execution_count": 20,
   "metadata": {
    "collapsed": true
   },
   "outputs": [],
   "source": [
    "def find_center(rect):\n",
    "    p = Point()\n",
    "    p.x = rect.corner.x + rect.width/2.0\n",
    "    p.y = rect.corner.y + rect.height/2.0\n",
    "    return p"
   ]
  },
  {
   "cell_type": "markdown",
   "metadata": {},
   "source": [
    "Here is an example that passes box as an argument and assigns the resulting Point to\n",
    "center:"
   ]
  },
  {
   "cell_type": "code",
   "execution_count": 21,
   "metadata": {
    "collapsed": false
   },
   "outputs": [
    {
     "name": "stdout",
     "output_type": "stream",
     "text": [
      "(50, 100)\n"
     ]
    },
    {
     "data": {
      "text/plain": [
       "(50.0, 100.0)"
      ]
     },
     "execution_count": 21,
     "metadata": {},
     "output_type": "execute_result"
    }
   ],
   "source": [
    "center = find_center(box)\n",
    "print_point(center) #we use the previously defined function \n",
    "(50.0, 100.0)"
   ]
  },
  {
   "cell_type": "markdown",
   "metadata": {
    "collapsed": true
   },
   "source": [
    "### Objects are mutable\n",
    "You can change the state of an object by making an assignment to one of its attributes. For\n",
    "example, to change the size of a rectangle without changing its position, you can modify\n",
    "the values of width and height:\n"
   ]
  },
  {
   "cell_type": "code",
   "execution_count": 22,
   "metadata": {
    "collapsed": false
   },
   "outputs": [],
   "source": [
    "box.width = box.width + 50\n",
    "box.height = box.width + 100"
   ]
  },
  {
   "cell_type": "markdown",
   "metadata": {},
   "source": [
    "You can also write functions that modify objects. For example, **grow_rectangle** takes a\n",
    "Rectangle object and two numbers, dwidth and dheight, and adds the numbers to the\n",
    "width and height of the rectangle:"
   ]
  },
  {
   "cell_type": "code",
   "execution_count": 23,
   "metadata": {
    "collapsed": true
   },
   "outputs": [],
   "source": [
    "def grow_rectangle(rect, dwidth, dheight):\n",
    "    rect.width += dwidth\n",
    "    rect.height += dheight"
   ]
  },
  {
   "cell_type": "code",
   "execution_count": 24,
   "metadata": {
    "collapsed": false
   },
   "outputs": [
    {
     "name": "stdout",
     "output_type": "stream",
     "text": [
      "255.0\n"
     ]
    }
   ],
   "source": [
    "grow_rectangle(box, 5,5)\n",
    "print (box.height)"
   ]
  },
  {
   "cell_type": "markdown",
   "metadata": {},
   "source": [
    "**Exercise 2**. Write a function named **move_rectangle** that takes a Rectangle and two numbers named **dx** and **dy**. It should change the location of the rectangle by adding dx to the x coordinate of corner and adding dy to the y coordinate ofcorner."
   ]
  },
  {
   "cell_type": "code",
   "execution_count": 25,
   "metadata": {
    "collapsed": false
   },
   "outputs": [
    {
     "name": "stdout",
     "output_type": "stream",
     "text": [
      "9.0\n"
     ]
    }
   ],
   "source": [
    "def move_rectangle(rect, dx, dy):\n",
    "    rect.corner.x += dx\n",
    "    rect.corner.y += dy\n",
    "move_rectangle(box,8,9)\n",
    "print (box.corner.y)"
   ]
  },
  {
   "cell_type": "markdown",
   "metadata": {},
   "source": [
    "### Copying\n",
    "Aliasing can make a program difficult to read because changes in one place might have\n",
    "unexpected effects in another place. It is hard to keep track of all the variables that might\n",
    "refer to a given object.\n",
    "Copying an object is often an alternative to aliasing. The copy module contains a function\n",
    "called copy that can duplicate any object:"
   ]
  },
  {
   "cell_type": "code",
   "execution_count": 26,
   "metadata": {
    "collapsed": false
   },
   "outputs": [
    {
     "data": {
      "text/plain": [
       "False"
      ]
     },
     "execution_count": 26,
     "metadata": {},
     "output_type": "execute_result"
    }
   ],
   "source": [
    "p1 = Point()\n",
    "p1.x = 3.0\n",
    "p1.y = 4.0\n",
    "\n",
    "p2 = copy.copy(p1) #p1 and p2 contain the same data, but they are not the same Point.\n",
    "#p1 is p2\n",
    "p1 == p2"
   ]
  },
  {
   "cell_type": "markdown",
   "metadata": {},
   "source": [
    "The **is** operator indicates that p1 and p2 are not the same object, which is what we expected.\n",
    "But you might have expected **=** to yield True because these points contain the same data.\n",
    "In that case, you will be disappointed to learn that for instances, the default behavior of the\n",
    "**==** operator is the same as the **is** operator; it checks object identity, not object equivalence."
   ]
  },
  {
   "cell_type": "code",
   "execution_count": 27,
   "metadata": {
    "collapsed": false
   },
   "outputs": [
    {
     "data": {
      "text/plain": [
       "False"
      ]
     },
     "execution_count": 27,
     "metadata": {},
     "output_type": "execute_result"
    }
   ],
   "source": [
    "box2 = copy.copy( box)\n",
    "box is box2"
   ]
  },
  {
   "cell_type": "markdown",
   "metadata": {},
   "source": [
    "The copy module contains a method named deepcopy that copies not only the object but also the objects it refers to, and the objects they refer to, and so on. You will not\n",
    "be surprised to learn that this operation is called a **deep copy**."
   ]
  },
  {
   "cell_type": "markdown",
   "metadata": {},
   "source": [
    "**Exercise 3**. Write a version of **move_rectangle** that creates and returns a new Rectangle\n",
    "instead of modifying the old one."
   ]
  },
  {
   "cell_type": "code",
   "execution_count": 28,
   "metadata": {
    "collapsed": false
   },
   "outputs": [
    {
     "name": "stdout",
     "output_type": "stream",
     "text": [
      "8.0\n"
     ]
    }
   ],
   "source": [
    "def move_rectangle_copy(rect, dx, dy):\n",
    "    rect2 = copy.deepcopy(rect)\n",
    "    move_rectangle(rect2, dx, dy)\n",
    "    return rect2\n",
    "move_rectangle_copy(box,8,9)\n",
    "print (box.corner.x)"
   ]
  },
  {
   "cell_type": "markdown",
   "metadata": {},
   "source": [
    "#### Swampy Module"
   ]
  },
  {
   "cell_type": "code",
   "execution_count": 29,
   "metadata": {
    "collapsed": false
   },
   "outputs": [],
   "source": [
    "#world = World()\n",
    "#canvas = world.ca(width=500, height=500, background='white' )\n",
    "#bbox = [[-150,-100], [150, 100]]\n",
    "#canvas.rectangle(bbox, outline='black' , width=2, fill='green4' )\n",
    "#canvas.circle([-25,0], 70, outline=None, fill='red' ) #coordinates, radius\n",
    "#world.mainloop()"
   ]
  },
  {
   "cell_type": "markdown",
   "metadata": {
    "collapsed": true
   },
   "source": [
    "1. Write a function called draw_rectangle that takes a Canvas and a Rectangle as arguments\n",
    "and draws a representation of the Rectangle on the Canvas.\n",
    "2. Add an attribute named color to your Rectangle objects and modify draw_rectangle so\n",
    "that it uses the color attribute as the fill color.\n",
    "3. Write a function called draw_point that takes a Canvas and a Point as arguments and draws\n",
    "a representation of the Point on the Canvas.\n",
    "4. Define a new class called Circle with appropriate attributes and instantiate a few Circle objects. Write a function called draw_circle that draws circles on the canvas.\n",
    "5. Write a program that draws the national flag of the Czech Republic. Hint: you can draw a\n",
    "polygon like this:\n",
    "points = [[-150,-100], [150, 100], [150, -100]]\n",
    "canvas.polygon(points, fill=' blue' )"
   ]
  },
  {
   "cell_type": "code",
   "execution_count": 30,
   "metadata": {
    "collapsed": false
   },
   "outputs": [],
   "source": [
    "def draw_rectangle(canvas, w, h, c_color,r_color, rectangle):\n",
    "    world = World()\n",
    "    canvas = world.ca(width=w, height=h, background=c_color )\n",
    "    bbox = [[-150,-100], [150, 100]] \n",
    "    canvas.rectangle(bbox, outline='black' , width=2, fill=r_color )\n",
    "    world.mainloop()\n",
    "#draw_rectangle(canvas, 500, 500, \"black\",\"red\", box)"
   ]
  },
  {
   "cell_type": "code",
   "execution_count": 31,
   "metadata": {
    "collapsed": false
   },
   "outputs": [],
   "source": [
    "def draw_point(canvas, point):\n",
    "    world = World()\n",
    "    canvas = world.ca(width=100, height=100, background=\"black\" )\n",
    "    canvas.circle([blank.x,blank.y], 7, outline=None, fill='red' )\n",
    "    world.mainloop()\n",
    "#draw_point(canvas, blank)"
   ]
  },
  {
   "cell_type": "code",
   "execution_count": 32,
   "metadata": {
    "collapsed": false
   },
   "outputs": [],
   "source": [
    "class Circle(object):\n",
    "    \"\"\"Represents a circle in 2-D space.\"\"\"\n",
    "    \n",
    "ball=Circle()\n",
    "ball.p=blank\n",
    "ball.c=\"red\"\n",
    "ball.r=5\n",
    "\n",
    "ball2=copy.copy(ball)\n",
    "ball2.p=p1\n",
    "ball2.c=\"white\"\n",
    "\n",
    "pp=Point()\n",
    "pp.x=12\n",
    "pp.y=20\n",
    "\n",
    "ball3=copy.copy(ball)\n",
    "ball3.p=pp\n",
    "ball3.r=10\n",
    "\n",
    "def draw_circles(canvas, *args):\n",
    "    world = World()\n",
    "    canvas = world.ca(width=300, height=300, background=\"black\" )\n",
    "    canvas.circle([blank.x,blank.y], ball.r, outline=None, fill=ball.c )\n",
    "    canvas.circle([p1.x,p1.y], ball2.r, outline=None, fill=ball2.c )\n",
    "    canvas.circle([pp.x,pp.y], ball3.r, outline=None, fill=ball2.c )\n",
    "    world.mainloop()\n",
    "#draw_circles(ball,ball2,canvas)"
   ]
  },
  {
   "cell_type": "markdown",
   "metadata": {
    "collapsed": true
   },
   "source": [
    "## Classes and functions\n",
    "\n",
    "### Time\n",
    "As another example of a user-defined type, we’ll define a class called Time that records the\n",
    "time of day. The class definition looks like this:"
   ]
  },
  {
   "cell_type": "code",
   "execution_count": 33,
   "metadata": {
    "collapsed": true
   },
   "outputs": [],
   "source": [
    "class Time(object):\n",
    "    \"\"\"Represents the time of day.\n",
    "    attributes: hour= int, \n",
    "                minute= int, \n",
    "                second=int\n",
    "    \"\"\""
   ]
  },
  {
   "cell_type": "markdown",
   "metadata": {},
   "source": [
    "We create a **Time** object and assign it's attributes. "
   ]
  },
  {
   "cell_type": "code",
   "execution_count": 34,
   "metadata": {
    "collapsed": false
   },
   "outputs": [],
   "source": [
    "time= Time()\n",
    "time.hour= 14\n",
    "time.minute= 50\n",
    "time.second= 8\n",
    "\n",
    "t1=Time()\n",
    "t1.hour= 15\n",
    "t1.minute= 20\n",
    "t1.second= 54"
   ]
  },
  {
   "cell_type": "markdown",
   "metadata": {},
   "source": [
    "**Exercise 16.1**. Write a function called **print_time** that takes a Time object and prints it in the form **hour:minute:second**. Hint: the format sequence **' %.2d'** prints an integer using at least two digits, including a leading zero if necessary."
   ]
  },
  {
   "cell_type": "code",
   "execution_count": 35,
   "metadata": {
    "collapsed": false
   },
   "outputs": [
    {
     "name": "stdout",
     "output_type": "stream",
     "text": [
      "14:50:08\n"
     ]
    }
   ],
   "source": [
    "def print_time(t):\n",
    "    print ('%.2d:%.2d:%.2d' % (t.hour, t.minute, t.second))\n",
    "print_time(time)"
   ]
  },
  {
   "cell_type": "markdown",
   "metadata": {},
   "source": [
    "**Exercise 16.2**. Write a boolean function called **is_after** that takes two Time objects, t1 and t2, and returns True if t1 follows t2 chronologically and False otherwise. Challenge: don’t use an if statement."
   ]
  },
  {
   "cell_type": "code",
   "execution_count": 36,
   "metadata": {
    "collapsed": false
   },
   "outputs": [
    {
     "data": {
      "text/plain": [
       "True"
      ]
     },
     "execution_count": 36,
     "metadata": {},
     "output_type": "execute_result"
    }
   ],
   "source": [
    "def is_after(t1,t2):\n",
    "    return t1.hour> t2.hour\n",
    "    \n",
    "is_after(t1, time)"
   ]
  },
  {
   "cell_type": "markdown",
   "metadata": {},
   "source": [
    "### Pure Functions\n",
    "There are two kinds of functions: **pure functions** and **modifiers**"
   ]
  },
  {
   "cell_type": "code",
   "execution_count": 37,
   "metadata": {
    "collapsed": true
   },
   "outputs": [],
   "source": [
    "def add_time(t1, t2):\n",
    "    sum = Time()\n",
    "    sum.hour = t1.hour + t2.hour\n",
    "    sum.minute = t1.minute + t2.minute\n",
    "    sum.second = t1.second + t2.second\n",
    "    return sum"
   ]
  },
  {
   "cell_type": "markdown",
   "metadata": {},
   "source": [
    "This is called a **pure function** because it does not modify any of the objects\n",
    "passed to it as arguments and it has no effect, like displaying a value or getting user input,\n",
    "other than returning a value."
   ]
  },
  {
   "cell_type": "markdown",
   "metadata": {},
   "source": [
    "To test this function, I’ll create two Time objects: start contains the start time of a movie,\n",
    "like *Monty Python and the Holy Grail*, and duration contains the run time of the movie,\n",
    "which is one hour 35 minutes.\n",
    "add_time figures out when the movie will be done."
   ]
  },
  {
   "cell_type": "code",
   "execution_count": 38,
   "metadata": {
    "collapsed": false
   },
   "outputs": [
    {
     "name": "stdout",
     "output_type": "stream",
     "text": [
      "10:80:00\n"
     ]
    }
   ],
   "source": [
    "start = Time()\n",
    "start.hour = 9\n",
    "start.minute = 45\n",
    "start.second = 0\n",
    "\n",
    "duration = Time()\n",
    "duration.hour = 1\n",
    "duration.minute = 35\n",
    "duration.second = 0\n",
    "\n",
    "done = add_time(start, duration)\n",
    "print_time(done)"
   ]
  },
  {
   "cell_type": "markdown",
   "metadata": {},
   "source": [
    "The resutl is unexpected because this function does not deal with cases where the number of seconds or minutes adds up to\n",
    "more than sixty. When that happens, we have to “carry” the extra seconds into the minute\n",
    "column or the extra minutes into the hour column."
   ]
  },
  {
   "cell_type": "code",
   "execution_count": 39,
   "metadata": {
    "collapsed": false
   },
   "outputs": [
    {
     "name": "stdout",
     "output_type": "stream",
     "text": [
      "11:20:00\n"
     ]
    }
   ],
   "source": [
    "def add_time(t1, t2):\n",
    "    sum = Time()\n",
    "    sum.hour = t1.hour + t2.hour\n",
    "    sum.minute = t1.minute + t2.minute\n",
    "    sum.second = t1.second + t2.second\n",
    "    if sum.second >= 60:\n",
    "        sum.second -= 60\n",
    "        sum.minute += 1\n",
    "    if sum.minute >= 60:\n",
    "        sum.minute -= 60\n",
    "        sum.hour += 1\n",
    "    return sum\n",
    "done = add_time(start, duration)\n",
    "print_time(done)"
   ]
  },
  {
   "cell_type": "markdown",
   "metadata": {},
   "source": [
    "Although this function is correct, it is starting to get big. We will see a shorter alternative\n",
    "later."
   ]
  },
  {
   "cell_type": "markdown",
   "metadata": {},
   "source": [
    "### Modifiers\n",
    "Sometimes it is useful for a function to modify the objects it gets as parameters. In that case,\n",
    "the changes are visible to the caller. Functions that work this way are called modifiers.\n",
    "*increment*, which adds a given number of seconds to a Time object, can be written naturally\n",
    "as a modifier. Here is a rough draft:"
   ]
  },
  {
   "cell_type": "code",
   "execution_count": 40,
   "metadata": {
    "collapsed": true
   },
   "outputs": [],
   "source": [
    "def increment(t, s):\n",
    "    time.second += s #basic operation\n",
    "    if time.second >= 60: #deals with exception\n",
    "        time.second -= 60\n",
    "        time.minute += 1\n",
    "    if time.minute >= 60:\n",
    "        time.minute-= 60\n",
    "        time.hour += 1"
   ]
  },
  {
   "cell_type": "markdown",
   "metadata": {},
   "source": [
    "What happens if the parameter seconds is much greater than sixty?\n",
    "In that case, it is not enough to carry once; we have to keep doing it until *time.second* is\n",
    "less than sixty. One solution is to replace the if statements with while statements. That\n",
    "would make the function correct, but not very efficient.\n",
    "\n",
    "**Exercise 16.3**. Write a correct version of increment that doesn’t contain any loops."
   ]
  },
  {
   "cell_type": "code",
   "execution_count": 41,
   "metadata": {
    "collapsed": false
   },
   "outputs": [],
   "source": [
    "def increment(time, s): #consultar\n",
    "    time.second += s\n",
    "    time.minute += time.s//60 #// integer division\n",
    "    time.hour += time.m//60\n",
    "\n",
    "    time.second %= 60 # remainder\n",
    "    time.minute %= 60\n",
    "    time.hour %= 24"
   ]
  },
  {
   "cell_type": "markdown",
   "metadata": {},
   "source": [
    "**Exercise 16.4**. Write a “pure” version of increment that creates and returns a new Time object rather than modifying the parameter."
   ]
  },
  {
   "cell_type": "code",
   "execution_count": 42,
   "metadata": {
    "collapsed": true
   },
   "outputs": [],
   "source": [
    "def increment(t, s):\n",
    "    r = deepcopy(time)\n",
    "\n",
    "    r.second += s\n",
    "    r.minute += r.second//60\n",
    "    r.hour += r.minute//60\n",
    "\n",
    "    r.second %= 60\n",
    "    r.minute %= 60\n",
    "    r.hour %= 24\n",
    "\n",
    "    return r  "
   ]
  },
  {
   "cell_type": "markdown",
   "metadata": {},
   "source": [
    "### Prototyping versus planning\n",
    "The development plan I am demonstrating is called “prototype and patch.” For each function, I wrote a prototype that performed the basic calculation and then tested it, patching\n",
    "errors along the way.\n",
    "This approach can be effective, especially if you don’t yet have a deep understanding\n",
    "of the problem. But incremental corrections can generate code that is unnecessarily\n",
    "complicated—since it deals with many special cases—and unreliable—since it is hard to\n",
    "know if you have found all the errors.\n",
    "\n",
    "An alternative is planned development, in which high-level insight into the problem can\n",
    "make the programming much easier. In this case, the insight is that a Time object is really\n",
    "a three-digit number in base 60 (see http://en.wikipedia.org/wiki/Sexagesimal). The\n",
    "second attribute is the “ones column,” the minute attribute is the “sixties column,” and the\n",
    "hour attribute is the “thirty-six hundreds column.”\n",
    "\n",
    "When we wrote add_time and increment, we were effectively doing addition in base 60,\n",
    "which is why we had to carry from one column to the next.\n",
    "This observation suggests another approach to the whole problem, we can convert Time\n",
    "objects to integers and take advantage of the fact that the computer knows how to do\n",
    "integer arithmetic.\n",
    "\n",
    "Here is a function that converts Times to integers:"
   ]
  },
  {
   "cell_type": "code",
   "execution_count": 88,
   "metadata": {
    "collapsed": false
   },
   "outputs": [
    {
     "name": "stdout",
     "output_type": "stream",
     "text": [
      "33900\n"
     ]
    }
   ],
   "source": [
    "def time_to_int(time):\n",
    "    minutes = time.hour * 60 + time.minute\n",
    "    seconds = minutes* 60 + time.second\n",
    "    return seconds\n",
    "\n",
    "print (time_to_int(time))\n",
    "#type(time_to_int(time))"
   ]
  },
  {
   "cell_type": "markdown",
   "metadata": {},
   "source": [
    "And here is the function that converts integers to Times (recall that divmod divides the first\n",
    "argument by the second and returns the quotient and remainder as a tuple).\n"
   ]
  },
  {
   "cell_type": "code",
   "execution_count": 44,
   "metadata": {
    "collapsed": false
   },
   "outputs": [
    {
     "name": "stdout",
     "output_type": "stream",
     "text": [
      "14:13:20\n"
     ]
    }
   ],
   "source": [
    "def int_to_time(seconds):\n",
    "    time = Time()\n",
    "    minutes, time.second = divmod(seconds, 60)\n",
    "    time.hour, time.minute = divmod(minutes, 60)\n",
    "    return time\n",
    "\n",
    "print_time(int_to_time(51200))"
   ]
  },
  {
   "cell_type": "markdown",
   "metadata": {},
   "source": [
    "Once you are convinced they are correct, you can use them to rewrite add_time:"
   ]
  },
  {
   "cell_type": "code",
   "execution_count": 45,
   "metadata": {
    "collapsed": true
   },
   "outputs": [],
   "source": [
    "def add_time(t1, t2):\n",
    "    seconds = time_to_int(t1) + time_to_int(t2)\n",
    "    return int_to_time(seconds)"
   ]
  },
  {
   "cell_type": "markdown",
   "metadata": {},
   "source": [
    "**Exercise 16.5**. Rewrite increment using time_to_int and int_to_time."
   ]
  },
  {
   "cell_type": "code",
   "execution_count": 46,
   "metadata": {
    "collapsed": true
   },
   "outputs": [],
   "source": [
    "def increment(time, addtime): \n",
    "    seconds= time_to_int(time)\n",
    "    return time_to_int(seconds+addtime)"
   ]
  },
  {
   "cell_type": "markdown",
   "metadata": {},
   "source": [
    "**Exercise 16.6**. Write a function called **mul_time** that takes a Time object and a number and returns\n",
    "a new Time object that contains the product of the original Time and the number.\n",
    "\n",
    "Then use **mul_time** to write a function that takes a Time object that represents the finishing time\n",
    "in a race, and a number that represents the distance, and returns a Time object that represents the\n",
    "average pace (time per mile).\n",
    "\n"
   ]
  },
  {
   "cell_type": "code",
   "execution_count": 47,
   "metadata": {
    "collapsed": false
   },
   "outputs": [
    {
     "data": {
      "text/plain": [
       "__main__.Time"
      ]
     },
     "execution_count": 47,
     "metadata": {},
     "output_type": "execute_result"
    }
   ],
   "source": [
    "def mul_time(time, factor):\n",
    "    seconds=time_to_int(time)*factor\n",
    "    return int_to_time(seconds)\n",
    "    \n",
    "lala=mul_time(t1,5)\n",
    "type(t1)"
   ]
  },
  {
   "cell_type": "code",
   "execution_count": 48,
   "metadata": {
    "collapsed": false
   },
   "outputs": [
    {
     "data": {
      "text/plain": [
       "<__main__.Time at 0x3af5137390>"
      ]
     },
     "execution_count": 48,
     "metadata": {},
     "output_type": "execute_result"
    }
   ],
   "source": [
    "def time_per_mile(finish, distance):\n",
    "    result=distance//time_to_int(finish)\n",
    "    return int_to_time(result)\n",
    "time_per_mile(time, 200) "
   ]
  },
  {
   "cell_type": "markdown",
   "metadata": {},
   "source": [
    "**Exercise 16.7**. The datetime module provides date and time objects that are similar to the Date\n",
    "and Time objects in this chapter, but they provide a rich set of methods and operators. Read the\n",
    "documentation at http://docs.python.org/2/library/datetime.html .\n",
    "1. Use the datetime module to write a program that gets the current date and prints the day of\n",
    "the week.\n",
    "2. Write a program that takes a birthday as input and prints the user’s age and the number of\n",
    "days, hours, minutes and seconds until their next birthday.\n",
    "3. For two people born on different days, there is a day when one is twice as old as the other.\n",
    "That’s their Double Day. Write a program that takes two birthdays and computes their Double\n",
    "Day.\n",
    "4. For a little more challenge, write the more general version that computes the day when one\n",
    "person is n times older than the other."
   ]
  },
  {
   "cell_type": "code",
   "execution_count": 49,
   "metadata": {
    "collapsed": false
   },
   "outputs": [
    {
     "name": "stdout",
     "output_type": "stream",
     "text": [
      "Tuesday\n"
     ]
    }
   ],
   "source": [
    "def week_day():\n",
    "    today = datetime.today()\n",
    "    print (today.strftime(\"%A\"))\n",
    "week_day()"
   ]
  },
  {
   "cell_type": "code",
   "execution_count": 50,
   "metadata": {
    "collapsed": false
   },
   "outputs": [
    {
     "data": {
      "text/plain": [
       "202"
      ]
     },
     "execution_count": 50,
     "metadata": {},
     "output_type": "execute_result"
    }
   ],
   "source": [
    "birthday=date(1991,6,21)\n",
    "mb=date(1982,9,26)\n",
    "def next_birthday(birthday):\n",
    "    today = datetime.today()\n",
    "    #when's next birthday?\n",
    "    n_birthday=datetime(today.year+1,birthday.month,birthday.day)\n",
    "    # if it has gone by, when will it be next year\n",
    "    if today > n_birthday:\n",
    "        next_birthday = datetime(today.year+1, birthday.month, birthday.day)\n",
    "\n",
    "    # subtraction on datetime objects returns a timedelta object\n",
    "    delta = n_birthday - today\n",
    "    return delta.days\n",
    "next_birthday(birthday)"
   ]
  },
  {
   "cell_type": "code",
   "execution_count": 51,
   "metadata": {
    "collapsed": false
   },
   "outputs": [
    {
     "data": {
      "text/plain": [
       "datetime.date(2000, 3, 15)"
      ]
     },
     "execution_count": 51,
     "metadata": {},
     "output_type": "execute_result"
    }
   ],
   "source": [
    "def double_day(b1, b2):\n",
    "    \"\"\"Compute the day when one person is twice as old as the other.\n",
    "\n",
    "    b1: datetime birthday of the younger person\n",
    "    b2: datetime birthday of the older person\n",
    "    \"\"\"\n",
    "    assert b1 > b2\n",
    "    delta = b1 - b2\n",
    "    double_day = b1 + delta\n",
    "    #factor=delta\n",
    "    return double_day#, factor\n",
    "double_day(birthday,mb)"
   ]
  },
  {
   "cell_type": "markdown",
   "metadata": {
    "collapsed": true
   },
   "source": [
    "## Classes and Methods\n",
    "#### Object Oriented Features\n",
    " in the Time program, there is no obvious connection between the class definition and the function definitions that follow. With some examination, it is apparent that\n",
    "every function takes at least one Time object as an argument.\n",
    "This observation is the motivation for methods; a method is a function that is associated\n",
    "with a particular class. We have seen methods for strings, lists, dictionaries and tuples. In\n",
    "this chapter, we will define methods for user-defined types.\n",
    "\n",
    "Methods are semantically the same as functions, but there are two syntactic differences:\n",
    "158 Chapter 17. Classes and methods\n",
    "• Methods are defined inside a class definition in order to make the relationship between the class and the method explicit.\n",
    "• The syntax for invoking a method is different from the syntax for calling a function."
   ]
  },
  {
   "cell_type": "markdown",
   "metadata": {},
   "source": [
    "#### Printing Objects\n",
    "\n",
    "To make print_time a method, all we have to do is move the function definition inside the\n",
    "class definition. Notice the change in indentation."
   ]
  },
  {
   "cell_type": "code",
   "execution_count": 52,
   "metadata": {
    "collapsed": false
   },
   "outputs": [],
   "source": [
    "class Time(object):\n",
    "    def print_time(time):\n",
    "        print (' %.2d:%.2d:%.2d' % (time.hour, time.minute, time.second))"
   ]
  },
  {
   "cell_type": "markdown",
   "metadata": {},
   "source": [
    "Now there are two ways to call **print_time**. The first (and less common) way is to use\n",
    "function syntax:"
   ]
  },
  {
   "cell_type": "code",
   "execution_count": 53,
   "metadata": {
    "collapsed": false
   },
   "outputs": [
    {
     "name": "stdout",
     "output_type": "stream",
     "text": [
      " 09:45:00\n"
     ]
    }
   ],
   "source": [
    "Time.print_time(start)"
   ]
  },
  {
   "cell_type": "markdown",
   "metadata": {},
   "source": [
    "In this use of dot notation, Time is the name of the class, and print_time is the name of the\n",
    "method. start is passed as a parameter.\n",
    "The second (and more concise) way is to use method syntax:"
   ]
  },
  {
   "cell_type": "code",
   "execution_count": 54,
   "metadata": {
    "collapsed": true
   },
   "outputs": [],
   "source": [
    "start= Time()\n",
    "start.hour= 5\n",
    "start.minute=25\n",
    "start.second=55"
   ]
  },
  {
   "cell_type": "code",
   "execution_count": 55,
   "metadata": {
    "collapsed": false
   },
   "outputs": [
    {
     "name": "stdout",
     "output_type": "stream",
     "text": [
      " 05:25:55\n"
     ]
    }
   ],
   "source": [
    "#print_time(start) ###no funciona\n",
    "start.print_time()"
   ]
  },
  {
   "cell_type": "markdown",
   "metadata": {},
   "source": [
    "By convention, the first parameter of a method is called self, so it would be more common\n",
    "to write print_time like this:"
   ]
  },
  {
   "cell_type": "code",
   "execution_count": 56,
   "metadata": {
    "collapsed": false
   },
   "outputs": [],
   "source": [
    "class Time(object):\n",
    "    def print_time(self):\n",
    "        print (' %.2d:%.2d:%.2d' % (self.hour, self.minute, self.second))"
   ]
  },
  {
   "cell_type": "markdown",
   "metadata": {},
   "source": [
    "The reason for this convention is an implicit metaphor:\n",
    "\n",
    "• The syntax for a function call, print_time(start), suggests that the function is the\n",
    "active agent. It says something like, “Hey print_time! Here’s an object for you to\n",
    "print.”\n",
    "\n",
    "• In object-oriented programming, the objects are the active agents. A method invocation like start.print_time() says “Hey start! Please print yourself.”"
   ]
  },
  {
   "cell_type": "markdown",
   "metadata": {},
   "source": [
    "**Exercise 17.1**. Rewrite **time_to_int** (from Section 16.4) as a method. \n",
    "\n",
    "It is probably not appropriate to rewrite **int_to_time** as a method; what object you would invoke it on?"
   ]
  },
  {
   "cell_type": "code",
   "execution_count": 57,
   "metadata": {
    "collapsed": true
   },
   "outputs": [],
   "source": [
    "class Time(object):\n",
    "    def print_time(self):\n",
    "        print (' %.2d:%.2d:%.2d' % (self.hour, self.minute, self.second))\n",
    "        \n",
    "    def time_to_int(self):\n",
    "        minutes = self.hour * 60 + self.minute\n",
    "        seconds = minutes * 60 + self.second\n",
    "        return seconds"
   ]
  },
  {
   "cell_type": "markdown",
   "metadata": {},
   "source": [
    "### Another Example"
   ]
  },
  {
   "cell_type": "code",
   "execution_count": 66,
   "metadata": {
    "collapsed": false
   },
   "outputs": [],
   "source": [
    "class Time(object):\n",
    "    def print_time(self):\n",
    "        print (' %.2d:%.2d:%.2d' % (self.hour, self.minute, self.second))\n",
    "        \n",
    "    def time_to_int(self):\n",
    "        minutes = self.hour * 60 + self.minute\n",
    "        seconds = minutes * 60 + self.second\n",
    "        return seconds\n",
    "    \n",
    "    def increment(self, seconds):\n",
    "        seconds += self.time_to_int()\n",
    "        return int_to_time(seconds)"
   ]
  },
  {
   "cell_type": "code",
   "execution_count": 67,
   "metadata": {
    "collapsed": false
   },
   "outputs": [
    {
     "name": "stdout",
     "output_type": "stream",
     "text": [
      " 05:25:55\n"
     ]
    },
    {
     "ename": "AttributeError",
     "evalue": "'int' object has no attribute 'hour'",
     "output_type": "error",
     "traceback": [
      "\u001b[1;31m---------------------------------------------------------------------------\u001b[0m",
      "\u001b[1;31mAttributeError\u001b[0m                            Traceback (most recent call last)",
      "\u001b[1;32m<ipython-input-67-e24e48bfef86>\u001b[0m in \u001b[0;36m<module>\u001b[1;34m()\u001b[0m\n\u001b[0;32m      1\u001b[0m \u001b[0mstart\u001b[0m\u001b[1;33m.\u001b[0m\u001b[0mprint_time\u001b[0m\u001b[1;33m(\u001b[0m\u001b[1;33m)\u001b[0m\u001b[1;33m\u001b[0m\u001b[0m\n\u001b[1;32m----> 2\u001b[1;33m \u001b[0mend\u001b[0m \u001b[1;33m=\u001b[0m \u001b[0mincrement\u001b[0m\u001b[1;33m(\u001b[0m\u001b[0mstart\u001b[0m\u001b[1;33m,\u001b[0m \u001b[1;36m1337\u001b[0m\u001b[1;33m)\u001b[0m\u001b[1;33m\u001b[0m\u001b[0m\n\u001b[0m\u001b[0;32m      3\u001b[0m \u001b[1;31m#end.print_time()\u001b[0m\u001b[1;33m\u001b[0m\u001b[1;33m\u001b[0m\u001b[0m\n",
      "\u001b[1;32m<ipython-input-46-8eb9d5961d2c>\u001b[0m in \u001b[0;36mincrement\u001b[1;34m(time, addtime)\u001b[0m\n\u001b[0;32m      1\u001b[0m \u001b[1;32mdef\u001b[0m \u001b[0mincrement\u001b[0m\u001b[1;33m(\u001b[0m\u001b[0mtime\u001b[0m\u001b[1;33m,\u001b[0m \u001b[0maddtime\u001b[0m\u001b[1;33m)\u001b[0m\u001b[1;33m:\u001b[0m\u001b[1;33m\u001b[0m\u001b[0m\n\u001b[0;32m      2\u001b[0m     \u001b[0mseconds\u001b[0m\u001b[1;33m=\u001b[0m \u001b[0mtime_to_int\u001b[0m\u001b[1;33m(\u001b[0m\u001b[0mtime\u001b[0m\u001b[1;33m)\u001b[0m\u001b[1;33m\u001b[0m\u001b[0m\n\u001b[1;32m----> 3\u001b[1;33m     \u001b[1;32mreturn\u001b[0m \u001b[0mtime_to_int\u001b[0m\u001b[1;33m(\u001b[0m\u001b[0mseconds\u001b[0m\u001b[1;33m+\u001b[0m\u001b[0maddtime\u001b[0m\u001b[1;33m)\u001b[0m\u001b[1;33m\u001b[0m\u001b[0m\n\u001b[0m",
      "\u001b[1;32m<ipython-input-43-d91d2423fc58>\u001b[0m in \u001b[0;36mtime_to_int\u001b[1;34m(time)\u001b[0m\n\u001b[0;32m      1\u001b[0m \u001b[1;32mdef\u001b[0m \u001b[0mtime_to_int\u001b[0m\u001b[1;33m(\u001b[0m\u001b[0mtime\u001b[0m\u001b[1;33m)\u001b[0m\u001b[1;33m:\u001b[0m\u001b[1;33m\u001b[0m\u001b[0m\n\u001b[1;32m----> 2\u001b[1;33m     \u001b[0mminutes\u001b[0m \u001b[1;33m=\u001b[0m \u001b[0mtime\u001b[0m\u001b[1;33m.\u001b[0m\u001b[0mhour\u001b[0m \u001b[1;33m*\u001b[0m \u001b[1;36m60\u001b[0m \u001b[1;33m+\u001b[0m \u001b[0mtime\u001b[0m\u001b[1;33m.\u001b[0m\u001b[0mminute\u001b[0m\u001b[1;33m\u001b[0m\u001b[0m\n\u001b[0m\u001b[0;32m      3\u001b[0m     \u001b[0mseconds\u001b[0m \u001b[1;33m=\u001b[0m \u001b[0mminutes\u001b[0m\u001b[1;33m*\u001b[0m \u001b[1;36m60\u001b[0m \u001b[1;33m+\u001b[0m \u001b[0mtime\u001b[0m\u001b[1;33m.\u001b[0m\u001b[0msecond\u001b[0m\u001b[1;33m\u001b[0m\u001b[0m\n\u001b[0;32m      4\u001b[0m     \u001b[1;32mreturn\u001b[0m \u001b[0mseconds\u001b[0m\u001b[1;33m\u001b[0m\u001b[0m\n\u001b[0;32m      5\u001b[0m \u001b[1;33m\u001b[0m\u001b[0m\n",
      "\u001b[1;31mAttributeError\u001b[0m: 'int' object has no attribute 'hour'"
     ]
    }
   ],
   "source": [
    "start.print_time()\n",
    "end = increment(start, 1337)\n",
    "#end.print_time()"
   ]
  },
  {
   "cell_type": "markdown",
   "metadata": {},
   "source": [
    "The subject, start, gets assigned to the first parameter, self. The argument, 1337, gets\n",
    "assigned to the second parameter, seconds.\n",
    "This mechanism can be confusing, especially if you make an error. For example, if you\n",
    "invoke increment with two arguments, you get:"
   ]
  },
  {
   "cell_type": "code",
   "execution_count": null,
   "metadata": {
    "collapsed": false
   },
   "outputs": [],
   "source": [
    "#end = increment(start,1337, 460)"
   ]
  },
  {
   "cell_type": "markdown",
   "metadata": {},
   "source": [
    "### A more complicated example\n",
    "**is_after** (from Exercise 16.2) is slightly more complicated because it takes two Time objects as parameters. In this case it is conventional to name the first parameter self and the\n",
    "second parameter other:"
   ]
  },
  {
   "cell_type": "code",
   "execution_count": null,
   "metadata": {
    "collapsed": true
   },
   "outputs": [],
   "source": [
    "class Time(object):\n",
    "    def print_time(self):\n",
    "        print (' %.2d:%.2d:%.2d' % (self.hour, self.minute, self.second))\n",
    "        \n",
    "    def time_to_int(self):\n",
    "        minutes = self.hour * 60 + self.minute\n",
    "        seconds = minutes * 60 + self.second\n",
    "        return seconds\n",
    "    \n",
    "    def increment(self, seconds):\n",
    "        seconds += self.time_to_int()\n",
    "        return int_to_time(seconds)\n",
    "\n",
    "    def is_after(self, other):\n",
    "        return self.time_to_int() > other.time_to_int()"
   ]
  },
  {
   "cell_type": "markdown",
   "metadata": {},
   "source": [
    "To use this method, you have to invoke it on one object and pass the other as an argument:"
   ]
  },
  {
   "cell_type": "code",
   "execution_count": null,
   "metadata": {
    "collapsed": false
   },
   "outputs": [],
   "source": [
    "end.is_after(start) #?"
   ]
  },
  {
   "cell_type": "markdown",
   "metadata": {},
   "source": [
    "One nice thing about this syntax is that it almost reads like English: “end is after start?”"
   ]
  },
  {
   "cell_type": "markdown",
   "metadata": {
    "collapsed": true
   },
   "source": [
    "## The __init__ method\n",
    "Short for “initialization\", is a special method that **gets invoked when an\n",
    "object is instantiated**. Its full name is __init__ (two underscore characters, followed by\n",
    "init, and then two more underscores). An init method for the Time class might look like\n",
    "this:"
   ]
  },
  {
   "cell_type": "code",
   "execution_count": 68,
   "metadata": {
    "collapsed": true
   },
   "outputs": [],
   "source": [
    "class Time(object):\n",
    "    def print_time(self):\n",
    "        print (' %.2d:%.2d:%.2d' % (self.hour, self.minute, self.second))\n",
    "        \n",
    "    def time_to_int(self):\n",
    "        minutes = self.hour * 60 + self.minute\n",
    "        seconds = minutes * 60 + self.second\n",
    "        return seconds\n",
    "    \n",
    "    def increment(self, seconds):\n",
    "        seconds += self.time_to_int()\n",
    "        return int_to_time(seconds)\n",
    "\n",
    "    def is_after(self, other):\n",
    "        return self.time_to_int() > other.time_to_int()\n",
    "    \n",
    "    def __init__(self, hour=0, minute=0, second=0): #default values\n",
    "        self.hour = hour\n",
    "        self.minute = minute\n",
    "        self.second = second"
   ]
  },
  {
   "cell_type": "markdown",
   "metadata": {},
   "source": [
    "It is common for the parameters of __init__ to have the same names as the attributes. The\n",
    "statement\n",
    "\n",
    ">>>self.hour = hour\n",
    "\n",
    "stores the value of the parameter hour as an attribute of self.\n",
    "\n",
    "The parameters are optional, so if you call Time with no arguments, you get the default\n",
    "values."
   ]
  },
  {
   "cell_type": "code",
   "execution_count": 69,
   "metadata": {
    "collapsed": false
   },
   "outputs": [
    {
     "name": "stdout",
     "output_type": "stream",
     "text": [
      " 00:00:00\n"
     ]
    }
   ],
   "source": [
    "time=Time()\n",
    "time.print_time()"
   ]
  },
  {
   "cell_type": "markdown",
   "metadata": {},
   "source": [
    "One, two, three arguments."
   ]
  },
  {
   "cell_type": "code",
   "execution_count": 70,
   "metadata": {
    "collapsed": false
   },
   "outputs": [
    {
     "name": "stdout",
     "output_type": "stream",
     "text": [
      " 09:08:15\n"
     ]
    }
   ],
   "source": [
    "time=Time(9,8,15)\n",
    "time.print_time()"
   ]
  },
  {
   "cell_type": "markdown",
   "metadata": {},
   "source": [
    "**Exercise 17.2.** Write an init method for the Point class that takes x and y as optional parameters and assigns them to the corresponding attributes."
   ]
  },
  {
   "cell_type": "code",
   "execution_count": 71,
   "metadata": {
    "collapsed": false
   },
   "outputs": [
    {
     "name": "stdout",
     "output_type": "stream",
     "text": [
      "0\n"
     ]
    }
   ],
   "source": [
    "class Point(object):\n",
    "    \"\"\"Represents a point in 2-D space.\"\"\"\n",
    "    def __init__(self,x=00,y=0):\n",
    "        self.x = x\n",
    "        self.y = y\n",
    "        \n",
    "p=Point()   \n",
    "print(p.x)"
   ]
  },
  {
   "cell_type": "markdown",
   "metadata": {},
   "source": [
    "## The __str__ method\n",
    "__str__ is a special method, like __init__, that is supposed to **return a string representation of an object**."
   ]
  },
  {
   "cell_type": "code",
   "execution_count": 72,
   "metadata": {
    "collapsed": true
   },
   "outputs": [],
   "source": [
    "class Time(object):\n",
    "    def print_time(self):\n",
    "        print (' %.2d:%.2d:%.2d' % (self.hour, self.minute, self.second))\n",
    "        \n",
    "    def time_to_int(self):\n",
    "        minutes = self.hour * 60 + self.minute\n",
    "        seconds = minutes * 60 + self.second\n",
    "        return seconds\n",
    "    \n",
    "    def increment(self, seconds):\n",
    "        seconds += self.time_to_int()\n",
    "        return int_to_time(seconds)\n",
    "\n",
    "    def is_after(self, other):\n",
    "        return self.time_to_int() > other.time_to_int()\n",
    "    \n",
    "    def __init__(self, hour=0, minute=0, second=0): #default values\n",
    "        self.hour = hour\n",
    "        self.minute = minute\n",
    "        self.second = second\n",
    "        \n",
    "    def __str__(self):\n",
    "        return ' %.2d:%.2d:%.2d' % (self.hour, self.minute, self.second)"
   ]
  },
  {
   "cell_type": "markdown",
   "metadata": {},
   "source": [
    "When you print an object, Python invokes the str method:"
   ]
  },
  {
   "cell_type": "code",
   "execution_count": 73,
   "metadata": {
    "collapsed": false
   },
   "outputs": [
    {
     "name": "stdout",
     "output_type": "stream",
     "text": [
      " 09:05:00\n"
     ]
    }
   ],
   "source": [
    "time = Time(9, 5)\n",
    "print (time)"
   ]
  },
  {
   "cell_type": "markdown",
   "metadata": {},
   "source": [
    "**Exercise 17.3**. Write a **str** method for the Point class. Create a Point object and print it."
   ]
  },
  {
   "cell_type": "code",
   "execution_count": 74,
   "metadata": {
    "collapsed": true
   },
   "outputs": [],
   "source": [
    "class Point(object):\n",
    "    \"\"\"Represents a point in 2-D space.\"\"\"\n",
    "    \n",
    "    def __init__(self,x=00,y=0):\n",
    "        self.x = x\n",
    "        self.y = y\n",
    "        \n",
    "    def __str__(self):\n",
    "        return ' %.2d,%.2d' % (self.x, self.y)"
   ]
  },
  {
   "cell_type": "code",
   "execution_count": 75,
   "metadata": {
    "collapsed": false
   },
   "outputs": [
    {
     "name": "stdout",
     "output_type": "stream",
     "text": [
      " 05,03\n"
     ]
    }
   ],
   "source": [
    "p=Point(5,3)\n",
    "print(p)"
   ]
  },
  {
   "cell_type": "markdown",
   "metadata": {},
   "source": [
    "#### When I write a new class, I almost always start by writing __init__, which makes it easier to instantiate objects, and __str__, which is useful for debugging."
   ]
  },
  {
   "cell_type": "markdown",
   "metadata": {},
   "source": [
    "## Operator Overloading\n",
    "By defining other special methods, you can specify the behavior of operators on userdefined types. For example, if you define a method named __add__ for the Time class,\n",
    "you can use the + operator on Time objects.\n",
    "\n",
    "Here is what the definition might look like:"
   ]
  },
  {
   "cell_type": "code",
   "execution_count": 76,
   "metadata": {
    "collapsed": true
   },
   "outputs": [],
   "source": [
    "class Time(object):\n",
    "    def print_time(self):\n",
    "        print (' %.2d:%.2d:%.2d' % (self.hour, self.minute, self.second))\n",
    "        \n",
    "    def time_to_int(self):\n",
    "        minutes = self.hour * 60 + self.minute\n",
    "        seconds = minutes * 60 + self.second\n",
    "        return seconds\n",
    "    \n",
    "    def increment(self, seconds):\n",
    "        seconds += self.time_to_int()\n",
    "        return int_to_time(seconds)\n",
    "\n",
    "    def is_after(self, other):\n",
    "        return self.time_to_int() > other.time_to_int()\n",
    "    \n",
    "    def __init__(self, hour=0, minute=0, second=0): #default values\n",
    "        self.hour = hour\n",
    "        self.minute = minute\n",
    "        self.second = second\n",
    "        \n",
    "    def __str__(self):\n",
    "        return ' %.2d:%.2d:%.2d' % (self.hour, self.minute, self.second)\n",
    "    \n",
    "    def __add__(self, other):\n",
    "        seconds = self.time_to_int() + other.time_to_int()\n",
    "        return int_to_time(seconds)"
   ]
  },
  {
   "cell_type": "markdown",
   "metadata": {},
   "source": [
    "Usage:"
   ]
  },
  {
   "cell_type": "code",
   "execution_count": 77,
   "metadata": {
    "collapsed": false
   },
   "outputs": [
    {
     "name": "stdout",
     "output_type": "stream",
     "text": [
      " 11:15:00\n"
     ]
    }
   ],
   "source": [
    "time=Time(9,25)\n",
    "duration=Time(1,50)\n",
    "print(time+duration)"
   ]
  },
  {
   "cell_type": "markdown",
   "metadata": {},
   "source": [
    "When you apply the + operator to Time objects, Python invokes __add__. When you print\n",
    "the result, Python invokes __str__. "
   ]
  },
  {
   "cell_type": "code",
   "execution_count": 78,
   "metadata": {
    "collapsed": true
   },
   "outputs": [],
   "source": [
    "class Time(object):\n",
    "    \"\"\"Represents a time object\n",
    "        attributes: hour, minute, second\"\"\"\n",
    "    \n",
    "    def __init__(self, hour=0, minute=0, second=0): #default values\n",
    "        self.hour = hour\n",
    "        self.minute = minute\n",
    "        self.second = second\n",
    "        \n",
    "    def __str__(self):\n",
    "        return ' %.2d:%.2d:%.2d' % (self.hour, self.minute, self.second)\n",
    "    \n",
    "    def __add__(self, other):\n",
    "        seconds = self.time_to_int() + other.time_to_int()\n",
    "        return int_to_time(seconds)\n",
    "    \n",
    "    def time_to_int(self):\n",
    "        minutes = self.hour * 60 + self.minute\n",
    "        seconds = minutes * 60 + self.second\n",
    "        return seconds\n",
    "    \n",
    "    def is_after(self, other):\n",
    "        return self.time_to_int() > other.time_to_int()"
   ]
  },
  {
   "cell_type": "markdown",
   "metadata": {},
   "source": [
    "Changing the behavior of an operator so that it works with user-defined types is called operator overloading."
   ]
  },
  {
   "cell_type": "markdown",
   "metadata": {},
   "source": [
    "**Exercise 17.4**. Write an add method for the Point class."
   ]
  },
  {
   "cell_type": "code",
   "execution_count": 79,
   "metadata": {
    "collapsed": false
   },
   "outputs": [],
   "source": [
    "class Point(object):\n",
    "    \"\"\"Represents a point in 2-D space.\"\"\"\n",
    "    \n",
    "    def __init__(self,x=00,y=0):\n",
    "        self.x = x\n",
    "        self.y = y\n",
    "        \n",
    "    def __str__(self):\n",
    "        return ' %.2d,%.2d' % (self.x, self.y)\n",
    "    \n",
    "    def __add__(self, other):\n",
    "        return self.x+other.x, self.y+other.y"
   ]
  },
  {
   "cell_type": "code",
   "execution_count": 80,
   "metadata": {
    "collapsed": false
   },
   "outputs": [
    {
     "name": "stdout",
     "output_type": "stream",
     "text": [
      "(4, 10)\n"
     ]
    }
   ],
   "source": [
    "p=Point(2,5)\n",
    "o=Point(2,5)\n",
    "print(p + o)"
   ]
  },
  {
   "cell_type": "markdown",
   "metadata": {},
   "source": [
    "## Type-based dispatch\n"
   ]
  },
  {
   "cell_type": "markdown",
   "metadata": {
    "collapsed": true
   },
   "source": [
    "In the previous section we added two Time objects, but you also might want to add an\n",
    "integer to a Time object. The following is a version of __add__ that checks the type of\n",
    "other and invokes either add_time or increment:"
   ]
  },
  {
   "cell_type": "code",
   "execution_count": 81,
   "metadata": {
    "collapsed": true
   },
   "outputs": [],
   "source": [
    "class Time(object):\n",
    "    \"\"\"Represents a time object\n",
    "        attributes: hour, minute, second\"\"\"\n",
    "    \n",
    "    def __init__(self, hour=0, minute=0, second=0): #default values\n",
    "        self.hour = hour\n",
    "        self.minute = minute\n",
    "        self.second = second\n",
    "        \n",
    "    def __str__(self):\n",
    "        return ' %.2d:%.2d:%.2d' % (self.hour, self.minute, self.second)\n",
    "    \n",
    "    def __add__(self, other):\n",
    "        seconds = self.time_to_int() + other.time_to_int()\n",
    "        return int_to_time(seconds)\n",
    "    \n",
    "    def __add__(self, other):\n",
    "        if isinstance(other, Time):\n",
    "            return self.add_time(other)\n",
    "        else:\n",
    "            return self.increment(other)\n",
    "    \n",
    "    def add_time(self, other):\n",
    "        seconds = self.time_to_int() + other.time_to_int()\n",
    "        return int_to_time(seconds)\n",
    "\n",
    "    def increment(self, seconds):\n",
    "        seconds += self.time_to_int()\n",
    "        return int_to_time(seconds)\n",
    "    \n",
    "    def time_to_int(self):\n",
    "        minutes = self.hour * 60 + self.minute\n",
    "        seconds = minutes * 60 + self.second\n",
    "        return seconds\n",
    "\n",
    "    def is_after(self, other):\n",
    "        return self.time_to_int() > other.time_to_int()"
   ]
  },
  {
   "cell_type": "markdown",
   "metadata": {},
   "source": [
    "The built-in function **isinstance** takes a value and a class object, and returns **True** if the value is an instance of the class. If other is a Time object, __add__ invokes add_time. Otherwise it assumes that the parameter is a number and invokes increment. This operation is called a type-based dispatch because it dispatches the computation to different methods based on the type of the arguments."
   ]
  },
  {
   "cell_type": "code",
   "execution_count": 82,
   "metadata": {
    "collapsed": false
   },
   "outputs": [
    {
     "ename": "AttributeError",
     "evalue": "'int' object has no attribute 'time_to_int'",
     "output_type": "error",
     "traceback": [
      "\u001b[1;31m---------------------------------------------------------------------------\u001b[0m",
      "\u001b[1;31mAttributeError\u001b[0m                            Traceback (most recent call last)",
      "\u001b[1;32m<ipython-input-82-fa9e958bb0b3>\u001b[0m in \u001b[0;36m<module>\u001b[1;34m()\u001b[0m\n\u001b[1;32m----> 1\u001b[1;33m \u001b[0mlala\u001b[0m\u001b[1;33m=\u001b[0m \u001b[0mtime\u001b[0m\u001b[1;33m+\u001b[0m\u001b[1;36m1000\u001b[0m\u001b[1;33m\u001b[0m\u001b[0m\n\u001b[0m",
      "\u001b[1;32m<ipython-input-76-3eacb3cad234>\u001b[0m in \u001b[0;36m__add__\u001b[1;34m(self, other)\u001b[0m\n\u001b[0;32m     24\u001b[0m \u001b[1;33m\u001b[0m\u001b[0m\n\u001b[0;32m     25\u001b[0m     \u001b[1;32mdef\u001b[0m \u001b[0m__add__\u001b[0m\u001b[1;33m(\u001b[0m\u001b[0mself\u001b[0m\u001b[1;33m,\u001b[0m \u001b[0mother\u001b[0m\u001b[1;33m)\u001b[0m\u001b[1;33m:\u001b[0m\u001b[1;33m\u001b[0m\u001b[0m\n\u001b[1;32m---> 26\u001b[1;33m         \u001b[0mseconds\u001b[0m \u001b[1;33m=\u001b[0m \u001b[0mself\u001b[0m\u001b[1;33m.\u001b[0m\u001b[0mtime_to_int\u001b[0m\u001b[1;33m(\u001b[0m\u001b[1;33m)\u001b[0m \u001b[1;33m+\u001b[0m \u001b[0mother\u001b[0m\u001b[1;33m.\u001b[0m\u001b[0mtime_to_int\u001b[0m\u001b[1;33m(\u001b[0m\u001b[1;33m)\u001b[0m\u001b[1;33m\u001b[0m\u001b[0m\n\u001b[0m\u001b[0;32m     27\u001b[0m         \u001b[1;32mreturn\u001b[0m \u001b[0mint_to_time\u001b[0m\u001b[1;33m(\u001b[0m\u001b[0mseconds\u001b[0m\u001b[1;33m)\u001b[0m\u001b[1;33m\u001b[0m\u001b[0m\n",
      "\u001b[1;31mAttributeError\u001b[0m: 'int' object has no attribute 'time_to_int'"
     ]
    }
   ],
   "source": [
    "lala= time+1000"
   ]
  },
  {
   "cell_type": "markdown",
   "metadata": {},
   "source": [
    "The problem is, instead of asking the Time object to add an integer, Python is asking an\n",
    "integer to add a Time object. But there is a clever solution for this problem: the special method __radd__, which stands for “right-side add.” This method is invoked when a Time object appears on the right side of the + operator.\n",
    "Here’s the definition:"
   ]
  },
  {
   "cell_type": "code",
   "execution_count": 83,
   "metadata": {
    "collapsed": true
   },
   "outputs": [],
   "source": [
    "class Time(object):\n",
    "    \"\"\"Represents a time object\n",
    "        attributes: hour, minute, second\"\"\"\n",
    "    \n",
    "    def __init__(self, hour=0, minute=0, second=0): #default values\n",
    "        self.hour = hour\n",
    "        self.minute = minute\n",
    "        self.second = second\n",
    "        \n",
    "    def __str__(self):\n",
    "        return ' %.2d:%.2d:%.2d' % (self.hour, self.minute, self.second)\n",
    "    \n",
    "    def __add__(self, other):\n",
    "        seconds = self.time_to_int() + other.time_to_int()\n",
    "        return int_to_time(seconds)\n",
    "    \n",
    "    def __add__(self, other):\n",
    "        if isinstance(other, Time):  #does other belong to Time class?\n",
    "            return self.add_time(other)\n",
    "        else:\n",
    "            return self.increment(other)\n",
    "    \n",
    "    def add_time(self, other):\n",
    "        seconds = self.time_to_int() + other.time_to_int()\n",
    "        return int_to_time(seconds)\n",
    "\n",
    "    def increment(self, seconds):\n",
    "        seconds += self.time_to_int()\n",
    "        return int_to_time(seconds)\n",
    "    \n",
    "    def time_to_int(self):\n",
    "        minutes = self.hour * 60 + self.minute\n",
    "        seconds = minutes * 60 + self.second\n",
    "        return seconds\n",
    "\n",
    "    def is_after(self, other):\n",
    "        return self.time_to_int() > other.time_to_int()\n",
    "    \n",
    "    def __radd__(self, other):\n",
    "        return self.__add__(other)"
   ]
  },
  {
   "cell_type": "code",
   "execution_count": 84,
   "metadata": {
    "collapsed": false
   },
   "outputs": [
    {
     "ename": "TypeError",
     "evalue": "unsupported operand type(s) for +: 'int' and 'Time'",
     "output_type": "error",
     "traceback": [
      "\u001b[1;31m---------------------------------------------------------------------------\u001b[0m",
      "\u001b[1;31mTypeError\u001b[0m                                 Traceback (most recent call last)",
      "\u001b[1;32m<ipython-input-84-16745ce97766>\u001b[0m in \u001b[0;36m<module>\u001b[1;34m()\u001b[0m\n\u001b[1;32m----> 1\u001b[1;33m \u001b[1;36m100\u001b[0m\u001b[1;33m+\u001b[0m\u001b[0mtime\u001b[0m\u001b[1;33m\u001b[0m\u001b[0m\n\u001b[0m",
      "\u001b[1;31mTypeError\u001b[0m: unsupported operand type(s) for +: 'int' and 'Time'"
     ]
    }
   ],
   "source": [
    "100+time"
   ]
  },
  {
   "cell_type": "markdown",
   "metadata": {},
   "source": [
    "**Exercise 17.5**. Write an add method for Points that works with either a Point object or a tuple:\n",
    "\n",
    "• If the second operand is a Point, the method should return a new Point whose x coordinate is\n",
    "the sum of the x coordinates of the operands, and likewise for the y coordinates.\n",
    "\n",
    "• If the second operand is a tuple, the method should add the first element of the tuple to the x coordinate and the second element to the y coordinate, and return a new Point with the result."
   ]
  },
  {
   "cell_type": "code",
   "execution_count": 85,
   "metadata": {
    "collapsed": false
   },
   "outputs": [],
   "source": [
    "class Point(object):\n",
    "    \"\"\"Represents a point in 2-D space.\"\"\"\n",
    "    \n",
    "    def __init__(self,x=0,y=0):\n",
    "        self.x = x\n",
    "        self.y = y\n",
    "        \n",
    "    def __str__(self):\n",
    "        return ' %.2d,%.2d' % (self.x, self.y)\n",
    "    \n",
    "    def add_points(self, other):\n",
    "        return self.x+other.x, self.y+other.y\n",
    "\n",
    "    def __add__(self,other):\n",
    "        if isinstance(other, Point):  #does other belong to Point?\n",
    "            return self.add_points(other)\n",
    "        else:\n",
    "            return self.x+other[0], self.y+other[1]\n",
    "        \n",
    "    def __radd__(self, other):\n",
    "        new_point= self.__add__(other)\n",
    "        return Point(new_point)"
   ]
  },
  {
   "cell_type": "code",
   "execution_count": 86,
   "metadata": {
    "collapsed": false
   },
   "outputs": [
    {
     "data": {
      "text/plain": [
       "__main__.Point"
      ]
     },
     "execution_count": 86,
     "metadata": {},
     "output_type": "execute_result"
    }
   ],
   "source": [
    "p=Point(5,2)\n",
    "p1=Point(5,2)\n",
    "lala=(5,2)+p\n",
    "type(lala)"
   ]
  },
  {
   "cell_type": "markdown",
   "metadata": {},
   "source": [
    "## Polymorfism\n",
    "Functions that can work with several types are called polymorphic. Polymorphism can\n",
    "facilitate code reuse. For example, the built-in function sum, which adds the elements of a\n",
    "sequence, works as long as the elements of the sequence support addition.\n",
    "Since Time objects provide an add method, they work with sum:"
   ]
  },
  {
   "cell_type": "code",
   "execution_count": 87,
   "metadata": {
    "collapsed": false
   },
   "outputs": [
    {
     "name": "stdout",
     "output_type": "stream",
     "text": [
      " 23:01:00\n"
     ]
    }
   ],
   "source": [
    "t1 = Time(7, 43)\n",
    "t2 = Time(7, 41)\n",
    "t3 = Time(7, 37)\n",
    "total = sum([t1, t2, t3])\n",
    "print(total)"
   ]
  },
  {
   "cell_type": "markdown",
   "metadata": {},
   "source": [
    "In general, if all of the operations inside a function work with a given type, then the function works with that type."
   ]
  }
 ],
 "metadata": {
  "kernelspec": {
   "display_name": "Python 3",
   "language": "python",
   "name": "python3"
  },
  "language_info": {
   "codemirror_mode": {
    "name": "ipython",
    "version": 3
   },
   "file_extension": ".py",
   "mimetype": "text/x-python",
   "name": "python",
   "nbconvert_exporter": "python",
   "pygments_lexer": "ipython3",
   "version": "3.5.0"
  }
 },
 "nbformat": 4,
 "nbformat_minor": 0
}
