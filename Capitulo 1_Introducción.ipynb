{
 "cells": [
  {
   "cell_type": "markdown",
   "metadata": {},
   "source": [
    "##Capítulo 1\n",
    "\n",
    "#A Whirlwind Tour of the Python Language\n",
    "\n",
    "Definición de Python:\n",
    "\n",
    "- Python es un lenguaje de programación orientado a objetos, y en Python todo es un\n",
    "objeto.\n",
    "\n",
    "#Cómo ejecutar código Python\n",
    "\n",
    "Hay cuatro manera de correr los codigo de Python:\n",
    "        - Interperte de Python:\n",
    "        ------------\n",
    "        Python 3.3.5 |Anaconda 1.6.1 (x86_64)| (default, Jan 2 2015, 13:57:31)\n",
    "        Type \"help\", \"copyright\", \"credits\" or \"license\" for more information.\n",
    "        >>> 1 + 1\n",
    "        2\n",
    "        >>> x = 5\n",
    "        >>> x * 3\n",
    "        15\n",
    "        -----------\n",
    "        - Interperte de IPython:\n",
    "        -------------------\n",
    "        ipython\n",
    "        Python 3.3.5 |Anaconda 1.6.1 (x86_64)| (default, Jan 2 2015, 13:57:31)\n",
    "        Type \"copyright\", \"credits\" or \"license\" for more information.\n",
    "        IPython 2.2.0 -- An enhanced Interactive Python.\n",
    "        ? -> Introduction and overview of IPython's features.\n",
    "        %quickref -> Quick reference.\n",
    "        help -> Python's own help system.\n",
    "        object? -> Details about 'object', use 'object??' for extra details.\n",
    "        In [1]: 1 + 1\n",
    "        Out[1]: 2\n",
    "        In [2]: x = 5\n",
    "        In [3]: x * 3\n",
    "        Out[3]: 15\n",
    "        -------------------\n",
    "        - Scripts propios:\n",
    "        --------------\n",
    "        # file: test.py\n",
    "        print(\"Running test.py\")\n",
    "        x = 5\n",
    "        print(\"Result is\", 3 * x)\n",
    "        \n",
    "        python test.py\n",
    "        Running test.py\n",
    "        Result is 15\n",
    "        --------------\n",
    "    \n",
    "        - IPython notebook:\n",
    "        ---------------\n",
    "          ipython notebook\n",
    "        ---------------\n",
    "        \n"
   ]
  },
  {
   "cell_type": "markdown",
   "metadata": {},
   "source": [
    "#Sintaxis en el Lenguaje Python\n",
    "\n",
    "   - Numeral (#): se utiliza para comentar y cualquier elemento de la línea posterior al signo es ignorado por el intérprete.\n",
    "   - Punto coma (;): se utiliza para poner dos sentencias en una sola línea\n",
    "   - Slash invertido (\"\\\"): es una sentencia para continuar en la siguiente linea\n",
    "   - Sangría (cuatro espacios blanco): se aplica cuando en el final de la linea anterior se colocan dos puntos(:).\n",
    "   - Paréntesis (): es utilizada en las sentencias (ej. \"a.upper()\") o en operaciones matematicas."
   ]
  },
  {
   "cell_type": "markdown",
   "metadata": {
    "collapsed": false
   },
   "source": [
    "#Semántica Básica de Python\n"
   ]
  },
  {
   "cell_type": "markdown",
   "metadata": {
    "collapsed": true
   },
   "source": [
    "##Variables:\n",
    "- Se le asigna un valor a una variable con el signo \"=\"\n"
   ]
  },
  {
   "cell_type": "code",
   "execution_count": 4,
   "metadata": {
    "collapsed": true
   },
   "outputs": [],
   "source": [
    "a = 4\n",
    "b = \"Hola Bios\"\n",
    "c = [1, 2, 3, 4]"
   ]
  },
  {
   "cell_type": "markdown",
   "metadata": {},
   "source": [
    "##Todo es un objeto:\n",
    "\n",
    "- En Python un objeto es una entidad que contiene datos asociado junto con los metadatos y/o funcionalidad.\n",
    "- Cada entidad tiene este tipo de metadatos (llamado atributos) y la funcionalidad asociada (llamados métodos)\n",
    "- Estos atributos y métodos se accede a través de la sintaxis \".\""
   ]
  },
  {
   "cell_type": "code",
   "execution_count": 2,
   "metadata": {
    "collapsed": false
   },
   "outputs": [
    {
     "name": "stdout",
     "output_type": "stream",
     "text": [
      "[1, 2, 3, 100]\n"
     ]
    }
   ],
   "source": [
    "L = [1, 2, 3]\n",
    "L.append(100)\n",
    "print(L)"
   ]
  },
  {
   "cell_type": "markdown",
   "metadata": {},
   "source": [
    "##Operadores\n",
    "\n",
    "\n",
    "\n",
    "###Operaciones Aritméticas:\n",
    "\n",
    "-El operador de Floor división se añadió en Python 3 (//); se debe tener en cuenta de que si se trabaja en Python 2 que el operador de división estándar (/) actúa como Floor división para enteros y igual que True división para números de punto flotante.\n",
    "\n",
    "<img src=\"img/operadores_arit.png\">"
   ]
  },
  {
   "cell_type": "code",
   "execution_count": 13,
   "metadata": {
    "collapsed": false
   },
   "outputs": [
    {
     "name": "stdout",
     "output_type": "stream",
     "text": [
      "5\n",
      "5\n"
     ]
    }
   ],
   "source": [
    "#DIFERENCIA CON PYTHON 3\n",
    "# True Division and Floor Division\n",
    "print(11 / 2) # ACA EN PYTHON 3 EL RESULTADO SERIA 5.5\n",
    "print(11 // 2) "
   ]
  },
  {
   "cell_type": "markdown",
   "metadata": {
    "collapsed": true
   },
   "source": [
    "###Operaciones de asignación\n",
    "\n",
    "<img src=\"img/Operadores_asig.png\">"
   ]
  },
  {
   "cell_type": "code",
   "execution_count": 9,
   "metadata": {
    "collapsed": false
   },
   "outputs": [
    {
     "name": "stdout",
     "output_type": "stream",
     "text": [
      "26\n"
     ]
    }
   ],
   "source": [
    "a = 24\n",
    "a += 2 # equivalent to a = a + 2\n",
    "print(a)"
   ]
  },
  {
   "cell_type": "markdown",
   "metadata": {},
   "source": [
    "###Operaciones de Comparación\n",
    "\n",
    "<img src=\"img/Operadores_comp.png\">\n",
    "\n",
    "Por ejemplo:"
   ]
  },
  {
   "cell_type": "code",
   "execution_count": 12,
   "metadata": {
    "collapsed": false
   },
   "outputs": [
    {
     "name": "stdout",
     "output_type": "stream",
     "text": [
      "True False\n"
     ]
    }
   ],
   "source": [
    "a = 25 % 2 == 1\n",
    "b = 66 % 2 == 1\n",
    "print a, b"
   ]
  },
  {
   "cell_type": "code",
   "execution_count": 13,
   "metadata": {
    "collapsed": false
   },
   "outputs": [
    {
     "data": {
      "text/plain": [
       "True"
      ]
     },
     "execution_count": 13,
     "metadata": {},
     "output_type": "execute_result"
    }
   ],
   "source": [
    "a = 25\n",
    "15 < a < 30"
   ]
  },
  {
   "cell_type": "markdown",
   "metadata": {},
   "source": [
    "###Operaciones de Booleanos\n",
    "- Python contiene operadores para combinar los valores Booleanos utilizando el concepto estándar de \"and\", \"or\" y \"not\".\n",
    "- Python no tiene incluye el operador booleano \"xor\". Un truco ingenioso para utilizar este operador booleanos es el siguiente:"
   ]
  },
  {
   "cell_type": "code",
   "execution_count": 15,
   "metadata": {
    "collapsed": false
   },
   "outputs": [
    {
     "data": {
      "text/plain": [
       "False"
      ]
     },
     "execution_count": 15,
     "metadata": {},
     "output_type": "execute_result"
    }
   ],
   "source": [
    "x = 4\n",
    "# (x < 6) xor (x > 2)\n",
    "(x > 1) != (x < 10)"
   ]
  },
  {
   "cell_type": "markdown",
   "metadata": {},
   "source": [
    "###Operador de Identidad y de miembro\n",
    "\n",
    "<img src=\"img/Operadores_indet.png\">\n",
    "\n",
    "- Los operadores de identidad comprueban la identidad del objeto.\n",
    "- Los operadores de mienbro comprueban la adhesión dentro de los objetos compuestos"
   ]
  },
  {
   "cell_type": "code",
   "execution_count": 3,
   "metadata": {
    "collapsed": false
   },
   "outputs": [
    {
     "name": "stdout",
     "output_type": "stream",
     "text": [
      "True False True\n",
      "True\n"
     ]
    }
   ],
   "source": [
    "###    operadores de Identidad    ###\n",
    "a = [1, 2, 3]\n",
    "b = [1, 2, 3]\n",
    "\n",
    "c = a == b\n",
    "\n",
    "d = a is b\n",
    "e = a is not b\n",
    "print c, d, e\n",
    "a = b\n",
    "f = a is b\n",
    "print f"
   ]
  },
  {
   "cell_type": "code",
   "execution_count": 20,
   "metadata": {
    "collapsed": false
   },
   "outputs": [
    {
     "name": "stdout",
     "output_type": "stream",
     "text": [
      "True False\n"
     ]
    }
   ],
   "source": [
    "###    Operadores de miembro    ###\n",
    "a = 1 in [1, 2, 3]\n",
    "b = 2 not in [1, 2, 3]\n",
    "print a, b"
   ]
  },
  {
   "cell_type": "markdown",
   "metadata": {},
   "source": [
    "#Built-in Types:\n",
    "\n",
    "##Valores Simple\n",
    "<img src=\"img/Valores_Simple.png\">\n",
    "\n",
    "### Tipos númericos"
   ]
  },
  {
   "cell_type": "code",
   "execution_count": 28,
   "metadata": {
    "collapsed": false
   },
   "outputs": [
    {
     "name": "stdout",
     "output_type": "stream",
     "text": [
      "<type 'int'> <type 'float'>\n"
     ]
    }
   ],
   "source": [
    "x = 1 ; a = type(x)\n",
    "z = 1.1 ; b = type(z)\n",
    "print a, b"
   ]
  },
  {
   "cell_type": "code",
   "execution_count": 31,
   "metadata": {
    "collapsed": false
   },
   "outputs": [
    {
     "name": "stdout",
     "output_type": "stream",
     "text": [
      "True False\n"
     ]
    }
   ],
   "source": [
    "x = 4.0 ; a = x.is_integer()\n",
    "y = 3.14 ; b = y.is_integer()\n",
    "print a, b"
   ]
  },
  {
   "cell_type": "markdown",
   "metadata": {},
   "source": [
    "###Precisión del punto flotante\n",
    "- Una cosa a tener en cuenta con la aritmética del \"punto flotante\" es que su precisión es limitada, lo que puede causar pruebas de igualdad inestable. Por ejemplo:"
   ]
  },
  {
   "cell_type": "code",
   "execution_count": 32,
   "metadata": {
    "collapsed": false
   },
   "outputs": [
    {
     "data": {
      "text/plain": [
       "False"
      ]
     },
     "execution_count": 32,
     "metadata": {},
     "output_type": "execute_result"
    }
   ],
   "source": [
    "0.1 + 0.2 == 0.3"
   ]
  },
  {
   "cell_type": "code",
   "execution_count": 33,
   "metadata": {
    "collapsed": false
   },
   "outputs": [
    {
     "name": "stdout",
     "output_type": "stream",
     "text": [
      "0.1 = 0.10000000000000001\n",
      "0.2 = 0.20000000000000001\n",
      "0.3 = 0.29999999999999999\n"
     ]
    }
   ],
   "source": [
    "print(\"0.1 = {0:.17f}\".format(0.1))\n",
    "print(\"0.2 = {0:.17f}\".format(0.2))\n",
    "print(\"0.3 = {0:.17f}\".format(0.3))"
   ]
  },
  {
   "cell_type": "markdown",
   "metadata": {},
   "source": [
    "###Numeros complejos\n",
    "- Son números con partes real y imaginaria"
   ]
  },
  {
   "cell_type": "code",
   "execution_count": 40,
   "metadata": {
    "collapsed": false
   },
   "outputs": [
    {
     "name": "stdout",
     "output_type": "stream",
     "text": [
      "Número complejo = (4+5j)\n",
      "Parte real =  4.0\n",
      "Parte imaginaria = 5.0\n",
      "Complejo conjugado = (4-5j)\n",
      "Magnitud = 6.40312423743\n"
     ]
    }
   ],
   "source": [
    "c = complex(4, 5); r = c.real ; i = c.imag ; con = c.conjugate() ; a = abs(c)\n",
    "\n",
    "print \"Número complejo =\",c\n",
    "print \"Parte real = \",r\n",
    "print \"Parte imaginaria =\", i\n",
    "print \"Complejo conjugado =\", con\n",
    "print \"Magnitud =\", a"
   ]
  },
  {
   "cell_type": "markdown",
   "metadata": {},
   "source": [
    "###Tipo String\n",
    "- Los string in Python son creados con doble o simple comilla"
   ]
  },
  {
   "cell_type": "code",
   "execution_count": 41,
   "metadata": {
    "collapsed": false
   },
   "outputs": [
    {
     "name": "stdout",
     "output_type": "stream",
     "text": [
      "4\n",
      "SPAM\n",
      "What do you like?\n",
      "what do you like?spam\n",
      "spamspamspamspamspam\n",
      "w\n"
     ]
    }
   ],
   "source": [
    "message = \"what do you like?\"\n",
    "response = 'spam'\n",
    "\n",
    "# length of string\n",
    "a = len(response)\n",
    "\n",
    "# Make upper-case. See also str.lower()\n",
    "b = response.upper()\n",
    "\n",
    "# Capitalize. See also str.title() primer letradel string en mayuscula\n",
    "c = message.capitalize()\n",
    "\n",
    "# concatenation with +\n",
    "d = message + response\n",
    "\n",
    "# multiplication is multiple concatenation\n",
    "e = 5 * response\n",
    "\n",
    "# Access individual characters (zero-based indexing)\n",
    "f = message[0]\n",
    "\n",
    "print a\n",
    "print b\n",
    "print c\n",
    "print d\n",
    "print e\n",
    "print f"
   ]
  },
  {
   "cell_type": "markdown",
   "metadata": {},
   "source": [
    "###Tipo None\n",
    "- Python incluye un tipo especial, el NoneType que sólo tiene un único valor posible: None"
   ]
  },
  {
   "cell_type": "code",
   "execution_count": 5,
   "metadata": {
    "collapsed": false
   },
   "outputs": [
    {
     "data": {
      "text/plain": [
       "NoneType"
      ]
     },
     "execution_count": 5,
     "metadata": {},
     "output_type": "execute_result"
    }
   ],
   "source": [
    "type(None)"
   ]
  },
  {
   "cell_type": "markdown",
   "metadata": {
    "collapsed": true
   },
   "source": [
    "###Tipo Booleano\n",
    "\n",
    "- El tipo booleano es un tipo simple con dos posibles valores: True y False, y este retorna por los operadores de comparación. \n",
    "- Cualquier otro tipo de valores pueden ser convertidos a booleano a través de reglas predecibles. Un valor es False si es igual a cero, y si no es verdadero\n",
    "\n",
    "Por ejemplo:"
   ]
  },
  {
   "cell_type": "code",
   "execution_count": 8,
   "metadata": {
    "collapsed": false
   },
   "outputs": [
    {
     "name": "stdout",
     "output_type": "stream",
     "text": [
      "True <type 'bool'>\n"
     ]
    }
   ],
   "source": [
    "result = (4 < 5)\n",
    "print result, type(result)"
   ]
  },
  {
   "cell_type": "code",
   "execution_count": 10,
   "metadata": {
    "collapsed": false
   },
   "outputs": [
    {
     "name": "stdout",
     "output_type": "stream",
     "text": [
      "False\n"
     ]
    }
   ],
   "source": [
    "a = bool(2014) ; b = bool(0) ; c = bool(3.14) ; d = bool(None) ; e = bool(\"\") ; f = bool(\"abc\") ; g = bool([1, 2, 3]) ; h = bool([])\n",
    "print d"
   ]
  },
  {
   "cell_type": "markdown",
   "metadata": {},
   "source": [
    "##Estructuras de Datos\n",
    "\n",
    "- Python también tiene varios tipos de Built-in compuestos, que actúan como contenedores de otros tipos\n",
    "\n",
    "<img src=\"img/Estructuras_datos.png\">"
   ]
  },
  {
   "cell_type": "markdown",
   "metadata": {},
   "source": [
    "###Lista\n",
    "\n",
    "- Las listas son el tipo de recopilación de datos básicos ordenada y mutable\n",
    "- Pueden contener objetos de cualquier tipo, o incluso una mezcla de tipos"
   ]
  },
  {
   "cell_type": "code",
   "execution_count": 13,
   "metadata": {
    "collapsed": false
   },
   "outputs": [
    {
     "name": "stdout",
     "output_type": "stream",
     "text": [
      "4\n",
      "[1, 'two', 3.14, [0, 3, 5], 11]\n",
      "[1, 'two', 3.14, [0, 3, 5], 11, 13, 17, 19]\n",
      "[1, 2, 3, 4, 5, 6]\n"
     ]
    }
   ],
   "source": [
    "L = [1, 'two', 3.14, [0, 3, 5]]\n",
    "\n",
    "# Length of a list\n",
    "a = len(L)\n",
    "print a\n",
    "# Append a value to the end\n",
    "L.append(11)\n",
    "print L\n",
    "# Addition concatenates lists\n",
    "c = L + [13, 17, 19]\n",
    "print c\n",
    "# sort() method sorts in-place\n",
    "Li = [2, 5, 1, 6, 3, 4]\n",
    "Li.sort()\n",
    "print Li"
   ]
  },
  {
   "cell_type": "markdown",
   "metadata": {},
   "source": [
    "###Indexación y Slicing de las listas\n",
    "- Python proporciona acceso a los elementos de los tipos de compuesto a través de indexación para elementos individuales, y Slicing para múltiples elementos. Ambos se indican con una sintaxis de corchetes.\n",
    "- Slicing es un medio para acceder a varios valores en una sub-listas. Este utiliza dos puntos (:) para indicar el punto de partida (que es incluido) y el punto final (no incluido) del sub-array"
   ]
  },
  {
   "cell_type": "code",
   "execution_count": 15,
   "metadata": {
    "collapsed": false
   },
   "outputs": [
    {
     "name": "stdout",
     "output_type": "stream",
     "text": [
      "6 1 2\n"
     ]
    }
   ],
   "source": [
    "#Indexación\n",
    "L = [1, 2, 3, 4, 5, 6]\n",
    "print L[-1], L[0], L[1]"
   ]
  },
  {
   "cell_type": "code",
   "execution_count": 17,
   "metadata": {
    "collapsed": false
   },
   "outputs": [
    {
     "name": "stdout",
     "output_type": "stream",
     "text": [
      "[1, 2, 3] [4, 5, 6] [1, 3, 5] [6, 5, 4, 3, 2, 1]\n"
     ]
    }
   ],
   "source": [
    "#Slicing\n",
    "print L[0:3], L[-3:], L[::2], L[::-1]"
   ]
  },
  {
   "cell_type": "markdown",
   "metadata": {},
   "source": [
    "###Tupalas\n",
    "- Las tuplas son en muchos aspectos similares a las listas, pero se definen con paréntesis en lugar de corchetes.\n",
    "- La principal diferencia entre las tupas y las listas es que son inmutables las tuplas, esto significa que una vez que se crean, su tamaño y el contenido no se pueden cambiar."
   ]
  },
  {
   "cell_type": "code",
   "execution_count": 31,
   "metadata": {
    "collapsed": false
   },
   "outputs": [
    {
     "ename": "AttributeError",
     "evalue": "'tuple' object has no attribute 'append'",
     "output_type": "error",
     "traceback": [
      "\u001b[1;31m---------------------------------------------------------------------------\u001b[0m",
      "\u001b[1;31mAttributeError\u001b[0m                            Traceback (most recent call last)",
      "\u001b[1;32m<ipython-input-31-f286decfca2b>\u001b[0m in \u001b[0;36m<module>\u001b[1;34m()\u001b[0m\n\u001b[0;32m      1\u001b[0m \u001b[0mt\u001b[0m \u001b[1;33m=\u001b[0m \u001b[1;33m(\u001b[0m\u001b[1;36m1\u001b[0m\u001b[1;33m,\u001b[0m \u001b[1;36m2\u001b[0m\u001b[1;33m,\u001b[0m \u001b[1;36m3\u001b[0m\u001b[1;33m)\u001b[0m\u001b[1;33m\u001b[0m\u001b[0m\n\u001b[1;32m----> 2\u001b[1;33m \u001b[0mt\u001b[0m\u001b[1;33m.\u001b[0m\u001b[0mappend\u001b[0m\u001b[1;33m(\u001b[0m\u001b[1;36m4\u001b[0m\u001b[1;33m)\u001b[0m\u001b[1;33m\u001b[0m\u001b[0m\n\u001b[0m",
      "\u001b[1;31mAttributeError\u001b[0m: 'tuple' object has no attribute 'append'"
     ]
    }
   ],
   "source": [
    "t = (1, 2, 3)\n",
    "t.append(4)"
   ]
  },
  {
   "cell_type": "markdown",
   "metadata": {},
   "source": [
    "### Diccionarios.\n",
    "\n",
    "- Los diccionarios son asignaciones extremadamente flexibles de valores definidos con llaves, y constituyen la base de gran parte de la implementación interna de Python."
   ]
  },
  {
   "cell_type": "code",
   "execution_count": 33,
   "metadata": {
    "collapsed": false
   },
   "outputs": [
    {
     "name": "stdout",
     "output_type": "stream",
     "text": [
      "{'ninety': 90, 'three': 3, 'two': 2, 'one': 1}\n"
     ]
    }
   ],
   "source": [
    "numbers = {'one':1, 'two':2, 'three':3}\n",
    "numbers['ninety'] = 90\n",
    "print numbers"
   ]
  },
  {
   "cell_type": "markdown",
   "metadata": {},
   "source": [
    "###Sets\n",
    "\n",
    "- Los sets son colecciones no ordenadas de items únicos. Se definen igual que las listas y las tuplas, excepto que utilizan las llaves de los diccionarios."
   ]
  },
  {
   "cell_type": "code",
   "execution_count": 19,
   "metadata": {
    "collapsed": false
   },
   "outputs": [
    {
     "name": "stdout",
     "output_type": "stream",
     "text": [
      "set([1, 2, 3, 5, 7, 9])\n"
     ]
    }
   ],
   "source": [
    "### Jueguen a Comentar una de las 2 últimas lineas y despues la otra ### \n",
    "\n",
    "primes = {2, 3, 5, 7}\n",
    "odds = {1, 3, 5, 7, 9}\n",
    "\n",
    "# union: items appearing in either\n",
    "print primes | odds # with an operator\n",
    "print primes.union(odds) # equivalently with a method"
   ]
  },
  {
   "cell_type": "code",
   "execution_count": 39,
   "metadata": {
    "collapsed": false
   },
   "outputs": [
    {
     "data": {
      "text/plain": [
       "{1, 2, 9}"
      ]
     },
     "execution_count": 39,
     "metadata": {},
     "output_type": "execute_result"
    }
   ],
   "source": [
    "# intersection: items appearing in both\n",
    "primes & odds # with an operator\n",
    "primes.intersection(odds) # equivalently with a method"
   ]
  },
  {
   "cell_type": "code",
   "execution_count": 40,
   "metadata": {
    "collapsed": false
   },
   "outputs": [
    {
     "data": {
      "text/plain": [
       "{2}"
      ]
     },
     "execution_count": 40,
     "metadata": {},
     "output_type": "execute_result"
    }
   ],
   "source": [
    "# difference: items in primes but not in odds\n",
    "primes - odds # with an operator\n",
    "primes.difference(odds) # equivalently with a method"
   ]
  },
  {
   "cell_type": "markdown",
   "metadata": {},
   "source": [
    "##Control de Flujo\n",
    "- El control de flujo, puede ejecutar ciertos bloques de código condicional y/o repetidamente: estos bloques de construcción básicos se pueden combinar para crear programas sofisticados\n",
    "- Se dividen en:   \n",
    "    - Sentencias condicionales que incluiyen al:  if, elif, else y pass\n",
    "    - Sentencias de loop incluyen al: for, while, break, continue, y pass.\n",
    "\n",
    "###Sentencias condicionales: if-elif-else:\n"
   ]
  },
  {
   "cell_type": "code",
   "execution_count": 48,
   "metadata": {
    "collapsed": false
   },
   "outputs": [
    {
     "name": "stdout",
     "output_type": "stream",
     "text": [
      "-14 is negative\n"
     ]
    }
   ],
   "source": [
    "x = -14\n",
    "\n",
    "if x == 0:\n",
    "    print x, \"is zero\"\n",
    "elif x > 0:\n",
    "    print x, \"is positive\"\n",
    "elif x < 0:\n",
    "    print x, \"is negative\"\n",
    "else:\n",
    "    print x, \"is unlike anything I've ever seen...\""
   ]
  },
  {
   "cell_type": "markdown",
   "metadata": {},
   "source": [
    "###for loops\n",
    "\n",
    "- Los Loops en Python son una manera de ejecutar repetidamente alguna sentencia del código"
   ]
  },
  {
   "cell_type": "code",
   "execution_count": 55,
   "metadata": {
    "collapsed": false
   },
   "outputs": [
    {
     "name": "stdout",
     "output_type": "stream",
     "text": [
      "<type 'list'> <type 'xrange'>\n",
      "0 1 2 3 4 5 6 7 8 9\n"
     ]
    }
   ],
   "source": [
    "############################\n",
    "# Diferencia entre Python 2 y 3:\n",
    "\n",
    "a = range(10) # Python 3 produce un objeto iterable\n",
    "b = xrange(10)\n",
    "print type(a), type(b)\n",
    "\n",
    "############################\n",
    "\n",
    "for N in xrange(10):\n",
    "    print N, # print all on same line"
   ]
  },
  {
   "cell_type": "markdown",
   "metadata": {},
   "source": [
    "###while loops\n",
    "- Este tipo de loop realiza las iteraciones hasta que se cumpla alguna condición"
   ]
  },
  {
   "cell_type": "code",
   "execution_count": 57,
   "metadata": {
    "collapsed": false
   },
   "outputs": [
    {
     "name": "stdout",
     "output_type": "stream",
     "text": [
      "-5 -4 -3 -2 -1 0 1 2 3 4 5 6 7 8 9\n"
     ]
    }
   ],
   "source": [
    "i = -5\n",
    "while i < 10:\n",
    "    print i,\n",
    "    i += 1"
   ]
  },
  {
   "cell_type": "markdown",
   "metadata": {},
   "source": [
    "###break and continue\n",
    "\n",
    "Hay dos declaraciones útiles que se pueden utilizar dentro de bucles para afinar la forma en que se ejecutan:\n",
    "\n",
    "- La sentencia break detiene el circuito por completo\n",
    "- La sentencia continue se salta el resto del bucle, y se va a la siguiente iteración\n",
    "\n",
    "Estos pueden ser usados tanto para el loops for y el while."
   ]
  },
  {
   "cell_type": "code",
   "execution_count": 22,
   "metadata": {
    "collapsed": false
   },
   "outputs": [
    {
     "name": "stdout",
     "output_type": "stream",
     "text": [
      "[1, 1, 2, 3, 5, 8, 13, 21, 34, 55, 89]\n"
     ]
    }
   ],
   "source": [
    "a, b = 0, 1\n",
    "amax = 100\n",
    "L = []\n",
    "while True:\n",
    "    (a, b) = (b, a + b)\n",
    "    if a > amax:\n",
    "        break        \n",
    "    L.append(a)\n",
    "print(L)"
   ]
  },
  {
   "cell_type": "code",
   "execution_count": 23,
   "metadata": {
    "collapsed": false
   },
   "outputs": [
    {
     "name": "stdout",
     "output_type": "stream",
     "text": [
      "[2, 3, 5, 7, 11, 13, 17, 19, 23, 29]\n"
     ]
    }
   ],
   "source": [
    "#### Algoritmo para encontrar primos ####\n",
    "\n",
    "L = []\n",
    "nmax = 30\n",
    "for n in xrange(2, nmax):\n",
    "    for factor in L:\n",
    "        if n % factor == 0:\n",
    "            break\n",
    "    else: # no break\n",
    "        L.append(n)\n",
    "print(L)"
   ]
  },
  {
   "cell_type": "markdown",
   "metadata": {},
   "source": [
    "##Funciones\n",
    "Hay dos formas de crear funciones: con al declaración def, útiles para cualquier tipo de función, y con la declaración lambda, útiles para crear funciones anónimas cortas.\n",
    "\n",
    "###Ejemplo de la funcion def"
   ]
  },
  {
   "cell_type": "code",
   "execution_count": 65,
   "metadata": {
    "collapsed": true
   },
   "outputs": [],
   "source": [
    "def fibonacci(N):\n",
    "    L = []\n",
    "    a, b = 0, 1\n",
    "    while len(L) < N:\n",
    "        a, b = b, a + b\n",
    "        L.append(a)\n",
    "    return L"
   ]
  },
  {
   "cell_type": "code",
   "execution_count": 73,
   "metadata": {
    "collapsed": false
   },
   "outputs": [
    {
     "data": {
      "text/plain": [
       "[1, 1, 2, 3, 5, 8, 13, 21, 34, 55]"
      ]
     },
     "execution_count": 73,
     "metadata": {},
     "output_type": "execute_result"
    }
   ],
   "source": [
    "fibonacci(10)"
   ]
  },
  {
   "cell_type": "markdown",
   "metadata": {},
   "source": [
    "###** *args y ** **kwargs: Argumentos Flexibles\n",
    "\n",
    "A veces es posible escribir una función en la que no se sabe inicialmente cuántos argumentos se usara el usuario. En este caso, se puede utilizar formas especiales de ** *args y ** **kwargs para tomar todos los argumentos.\n",
    "\n",
    "- Un solo asterisco antes de una variable (args) significa \"ampliar esta secuencia, mientras que un doble asterisco antes de una variable (kwargs) significa \"ampliar este diccionario\"."
   ]
  },
  {
   "cell_type": "code",
   "execution_count": 75,
   "metadata": {
    "collapsed": false
   },
   "outputs": [
    {
     "name": "stdout",
     "output_type": "stream",
     "text": [
      "args = (1, 2, 3)\n",
      "kwargs =  {'a': 4, 'b': 5}\n"
     ]
    }
   ],
   "source": [
    "def catch_all(*args, **kwargs):\n",
    "    print \"args =\", args\n",
    "    print \"kwargs = \", kwargs"
   ]
  },
  {
   "cell_type": "code",
   "execution_count": 80,
   "metadata": {
    "collapsed": false
   },
   "outputs": [
    {
     "name": "stdout",
     "output_type": "stream",
     "text": [
      "args = (1, 2, 3)\n",
      "kwargs =  {'a': 4, 'b': 5}\n"
     ]
    }
   ],
   "source": [
    "catch_all(1, 2, 3, a=4, b=5)"
   ]
  },
  {
   "cell_type": "code",
   "execution_count": 76,
   "metadata": {
    "collapsed": false
   },
   "outputs": [
    {
     "name": "stdout",
     "output_type": "stream",
     "text": [
      "args = ('a',)\n",
      "kwargs =  {'keyword': 2}\n"
     ]
    }
   ],
   "source": [
    "catch_all('a', keyword=2)"
   ]
  },
  {
   "cell_type": "markdown",
   "metadata": {},
   "source": [
    "###Ejemplo de la funcion lambda (anónima)"
   ]
  },
  {
   "cell_type": "code",
   "execution_count": 81,
   "metadata": {
    "collapsed": false
   },
   "outputs": [
    {
     "data": {
      "text/plain": [
       "3"
      ]
     },
     "execution_count": 81,
     "metadata": {},
     "output_type": "execute_result"
    }
   ],
   "source": [
    "add = lambda x, y: x + y\n",
    "add(1, 2)"
   ]
  },
  {
   "cell_type": "code",
   "execution_count": 83,
   "metadata": {
    "collapsed": false
   },
   "outputs": [
    {
     "data": {
      "text/plain": [
       "3"
      ]
     },
     "execution_count": 83,
     "metadata": {},
     "output_type": "execute_result"
    }
   ],
   "source": [
    "def add(x, y):\n",
    "    return x + y\n",
    "add(1, 2)"
   ]
  },
  {
   "cell_type": "markdown",
   "metadata": {},
   "source": [
    "##Entonces ¿por qué querrías usar una cosa así? \n",
    "\n",
    "En primer lugar, todo se reduce al hecho de que todo es un objeto en Python. Eso significa que las funciones lambda se pueden pasar como argumentos a otras funciones.\n",
    "\n",
    "Esto sirve para los diccionarios que no son ordenables entonces necesitamos una manera de decirle a la función de cómo ordenar nuestros datos. Podemos hacer esto mediante la especificación de la función key, una función que dado un elemento devuelve la clave de clasificación para ese itmes:"
   ]
  },
  {
   "cell_type": "code",
   "execution_count": 90,
   "metadata": {
    "collapsed": true
   },
   "outputs": [],
   "source": [
    "data = [{'first':'Guido', 'last':'Van Rossum', 'YOB':1956},\n",
    "        {'first':'Max',   'last':'Hopper',     'YOB':1936},\n",
    "        {'first':'Alan',  'last':'Turing',     'YOB':1948}]"
   ]
  },
  {
   "cell_type": "code",
   "execution_count": 91,
   "metadata": {
    "collapsed": false
   },
   "outputs": [
    {
     "data": {
      "text/plain": [
       "[{'YOB': 1948, 'first': 'Alan', 'last': 'Turing'},\n",
       " {'YOB': 1956, 'first': 'Guido', 'last': 'Van Rossum'},\n",
       " {'YOB': 1936, 'first': 'Max', 'last': 'Hopper'}]"
      ]
     },
     "execution_count": 91,
     "metadata": {},
     "output_type": "execute_result"
    }
   ],
   "source": [
    "# sort alphabetically by first name\n",
    "sorted(data, key=lambda item: item['first'])"
   ]
  },
  {
   "cell_type": "code",
   "execution_count": 92,
   "metadata": {
    "collapsed": false
   },
   "outputs": [
    {
     "data": {
      "text/plain": [
       "[{'YOB': 1936, 'first': 'Max', 'last': 'Hopper'},\n",
       " {'YOB': 1948, 'first': 'Alan', 'last': 'Turing'},\n",
       " {'YOB': 1956, 'first': 'Guido', 'last': 'Van Rossum'}]"
      ]
     },
     "execution_count": 92,
     "metadata": {},
     "output_type": "execute_result"
    }
   ],
   "source": [
    "# sort by year of birth\n",
    "sorted(data, key=lambda item: item['YOB'])"
   ]
  },
  {
   "cell_type": "markdown",
   "metadata": {},
   "source": [
    "##Errores y excepciones\n",
    "\n",
    "Estos errores vienen en tres sabores básicos:\n",
    "\n",
    "   - Syntax Errors: Errores donde el código no es válido para Python (generalmente fácil de solucionar)\n",
    "   - Runtime Errors: Errores donde el código sintácticamente es válido pero falla al ejecutar, tal vez debido al input del usuario que        no es válido (a veces fácil de solucionar)\n",
    "   - Semantic Errors: Errores en la lógica: código se ejecuta sin problemas, pero el resultado no es lo que esperamos (a menudo muy          difíciles de rastrear y de corregir)\n",
    "\n",
    "##Runtime Errors:"
   ]
  },
  {
   "cell_type": "code",
   "execution_count": 93,
   "metadata": {
    "collapsed": false
   },
   "outputs": [
    {
     "ename": "NameError",
     "evalue": "name 'Q' is not defined",
     "output_type": "error",
     "traceback": [
      "\u001b[1;31m---------------------------------------------------------------------------\u001b[0m",
      "\u001b[1;31mNameError\u001b[0m                                 Traceback (most recent call last)",
      "\u001b[1;32m<ipython-input-93-2e907c01a954>\u001b[0m in \u001b[0;36m<module>\u001b[1;34m()\u001b[0m\n\u001b[1;32m----> 1\u001b[1;33m \u001b[1;32mprint\u001b[0m \u001b[0mQ\u001b[0m\u001b[1;33m\u001b[0m\u001b[0m\n\u001b[0m",
      "\u001b[1;31mNameError\u001b[0m: name 'Q' is not defined"
     ]
    }
   ],
   "source": [
    "print Q"
   ]
  },
  {
   "cell_type": "code",
   "execution_count": 97,
   "metadata": {
    "collapsed": false
   },
   "outputs": [
    {
     "ename": "ZeroDivisionError",
     "evalue": "integer division or modulo by zero",
     "output_type": "error",
     "traceback": [
      "\u001b[1;31m---------------------------------------------------------------------------\u001b[0m",
      "\u001b[1;31mZeroDivisionError\u001b[0m                         Traceback (most recent call last)",
      "\u001b[1;32m<ipython-input-97-897f73788bb0>\u001b[0m in \u001b[0;36m<module>\u001b[1;34m()\u001b[0m\n\u001b[1;32m----> 1\u001b[1;33m \u001b[1;36m2\u001b[0m\u001b[1;33m/\u001b[0m\u001b[1;36m0\u001b[0m\u001b[1;33m\u001b[0m\u001b[0m\n\u001b[0m",
      "\u001b[1;31mZeroDivisionError\u001b[0m: integer division or modulo by zero"
     ]
    }
   ],
   "source": [
    "2/0"
   ]
  },
  {
   "cell_type": "code",
   "execution_count": 101,
   "metadata": {
    "collapsed": false
   },
   "outputs": [
    {
     "ename": "IndexError",
     "evalue": "list index out of range",
     "output_type": "error",
     "traceback": [
      "\u001b[1;31m---------------------------------------------------------------------------\u001b[0m",
      "\u001b[1;31mIndexError\u001b[0m                                Traceback (most recent call last)",
      "\u001b[1;32m<ipython-input-101-7c2d06695a5e>\u001b[0m in \u001b[0;36m<module>\u001b[1;34m()\u001b[0m\n\u001b[0;32m      1\u001b[0m \u001b[0mL\u001b[0m \u001b[1;33m=\u001b[0m \u001b[1;33m[\u001b[0m\u001b[1;36m1\u001b[0m\u001b[1;33m,\u001b[0m \u001b[1;36m2\u001b[0m\u001b[1;33m,\u001b[0m \u001b[1;36m3\u001b[0m\u001b[1;33m,\u001b[0m \u001b[1;36m4\u001b[0m\u001b[1;33m]\u001b[0m\u001b[1;33m\u001b[0m\u001b[0m\n\u001b[1;32m----> 2\u001b[1;33m \u001b[0mL\u001b[0m\u001b[1;33m[\u001b[0m\u001b[1;36m100\u001b[0m\u001b[1;33m]\u001b[0m\u001b[1;33m\u001b[0m\u001b[0m\n\u001b[0m",
      "\u001b[1;31mIndexError\u001b[0m: list index out of range"
     ]
    }
   ],
   "source": [
    "L = [1, 2, 3, 4]\n",
    "L[100]"
   ]
  },
  {
   "cell_type": "markdown",
   "metadata": {},
   "source": [
    "##Excepciones:\n",
    "###Capturador de excepxiones: try y except\n",
    "- La principal herramienta de Python que da para el manejo de excepciones en la ejecución es la cláusula try y except."
   ]
  },
  {
   "cell_type": "code",
   "execution_count": 30,
   "metadata": {
    "collapsed": false
   },
   "outputs": [
    {
     "data": {
      "text/plain": [
       "'metiste la pata: ZeroDivisionError'"
      ]
     },
     "execution_count": 30,
     "metadata": {},
     "output_type": "execute_result"
    }
   ],
   "source": [
    "def safe_divide(a, b):\n",
    "    try:\n",
    "        return a / b\n",
    "    except ZeroDivisionError:\n",
    "        return \"metiste la pata: ZeroDivisionError\"\n",
    "safe_divide(1, 0.)"
   ]
  },
  {
   "cell_type": "markdown",
   "metadata": {},
   "source": [
    "###Elevar las excepxiones: raise"
   ]
  },
  {
   "cell_type": "code",
   "execution_count": 25,
   "metadata": {
    "collapsed": true
   },
   "outputs": [],
   "source": [
    "# N al ser negativo nos daria un ValueError \n",
    "def fibonacci(N):\n",
    "    if N < 0:\n",
    "        raise ValueError(\"N must be non-negative\")\n",
    "    L = []\n",
    "    a, b = 0, 1\n",
    "    while len(L) < N:\n",
    "        a, b = b, a + b\n",
    "        L.append(a)\n",
    "    return L"
   ]
  },
  {
   "cell_type": "code",
   "execution_count": 26,
   "metadata": {
    "collapsed": false
   },
   "outputs": [
    {
     "ename": "ValueError",
     "evalue": "N must be non-negative",
     "output_type": "error",
     "traceback": [
      "\u001b[1;31m---------------------------------------------------------------------------\u001b[0m",
      "\u001b[1;31mValueError\u001b[0m                                Traceback (most recent call last)",
      "\u001b[1;32m<ipython-input-26-3d291499cfa7>\u001b[0m in \u001b[0;36m<module>\u001b[1;34m()\u001b[0m\n\u001b[1;32m----> 1\u001b[1;33m \u001b[0mfibonacci\u001b[0m\u001b[1;33m(\u001b[0m\u001b[1;33m-\u001b[0m\u001b[1;36m10\u001b[0m\u001b[1;33m)\u001b[0m\u001b[1;33m\u001b[0m\u001b[0m\n\u001b[0m",
      "\u001b[1;32m<ipython-input-25-0d12e24e45b8>\u001b[0m in \u001b[0;36mfibonacci\u001b[1;34m(N)\u001b[0m\n\u001b[0;32m      2\u001b[0m \u001b[1;32mdef\u001b[0m \u001b[0mfibonacci\u001b[0m\u001b[1;33m(\u001b[0m\u001b[0mN\u001b[0m\u001b[1;33m)\u001b[0m\u001b[1;33m:\u001b[0m\u001b[1;33m\u001b[0m\u001b[0m\n\u001b[0;32m      3\u001b[0m     \u001b[1;32mif\u001b[0m \u001b[0mN\u001b[0m \u001b[1;33m<\u001b[0m \u001b[1;36m0\u001b[0m\u001b[1;33m:\u001b[0m\u001b[1;33m\u001b[0m\u001b[0m\n\u001b[1;32m----> 4\u001b[1;33m         \u001b[1;32mraise\u001b[0m \u001b[0mValueError\u001b[0m\u001b[1;33m(\u001b[0m\u001b[1;34m\"N must be non-negative\"\u001b[0m\u001b[1;33m)\u001b[0m\u001b[1;33m\u001b[0m\u001b[0m\n\u001b[0m\u001b[0;32m      5\u001b[0m     \u001b[0mL\u001b[0m \u001b[1;33m=\u001b[0m \u001b[1;33m[\u001b[0m\u001b[1;33m]\u001b[0m\u001b[1;33m\u001b[0m\u001b[0m\n\u001b[0;32m      6\u001b[0m     \u001b[0ma\u001b[0m\u001b[1;33m,\u001b[0m \u001b[0mb\u001b[0m \u001b[1;33m=\u001b[0m \u001b[1;36m0\u001b[0m\u001b[1;33m,\u001b[0m \u001b[1;36m1\u001b[0m\u001b[1;33m\u001b[0m\u001b[0m\n",
      "\u001b[1;31mValueError\u001b[0m: N must be non-negative"
     ]
    }
   ],
   "source": [
    "fibonacci(-10)"
   ]
  },
  {
   "cell_type": "markdown",
   "metadata": {},
   "source": [
    "<h1 align=\"center\">Iteradores</h1>\n",
    "\n",
    "##Iterando sobre listas\n",
    "\n",
    "Los iteradores son tal vez más fáciles de entender en el caso concreto de iteración a través de una lista. Considera lo siguiente:"
   ]
  },
  {
   "cell_type": "code",
   "execution_count": 7,
   "metadata": {
    "collapsed": false
   },
   "outputs": [
    {
     "name": "stdout",
     "output_type": "stream",
     "text": [
      "3 5 7 9 11\n"
     ]
    }
   ],
   "source": [
    "for value in [2, 4, 6, 8, 10]:\n",
    "# do some operation\n",
    "    print value + 1,"
   ]
  },
  {
   "cell_type": "markdown",
   "metadata": {},
   "source": [
    "###Una lista no es siempre una Lista\n",
    "- Un ejemplo de esta iteración indirecta es la función range() en Python 3 (o xrange() en Python 2), que no devuelve una lista."
   ]
  },
  {
   "cell_type": "code",
   "execution_count": 10,
   "metadata": {
    "collapsed": false
   },
   "outputs": [
    {
     "name": "stdout",
     "output_type": "stream",
     "text": [
      "xrange(10)\n"
     ]
    },
    {
     "data": {
      "text/plain": [
       "[0, 1, 2, 3, 4, 5, 6, 7, 8, 9]"
      ]
     },
     "execution_count": 10,
     "metadata": {},
     "output_type": "execute_result"
    }
   ],
   "source": [
    "print xrange(10) ; range(10)"
   ]
  },
  {
   "cell_type": "code",
   "execution_count": 33,
   "metadata": {
    "collapsed": false
   },
   "outputs": [
    {
     "name": "stdout",
     "output_type": "stream",
     "text": [
      ", 0 , 1 , 2 , 3 , 4 , 5 , 6 , 7 , 8 , 9\n"
     ]
    }
   ],
   "source": [
    "for i in xrange(10 ** 2):\n",
    "    if i >= 10: break\n",
    "    print \",\", i,"
   ]
  },
  {
   "cell_type": "markdown",
   "metadata": {},
   "source": [
    "##Iteradores más útiles en le lenguaje \n",
    "##enumerate\n",
    "- Esta es la forma más \"Pythonic\" para enumerar los índices y valores en una lista."
   ]
  },
  {
   "cell_type": "code",
   "execution_count": 21,
   "metadata": {
    "collapsed": false
   },
   "outputs": [
    {
     "name": "stdout",
     "output_type": "stream",
     "text": [
      "0 5\n",
      "1 6\n",
      "2 7\n",
      "3 8\n",
      "4 9\n",
      "5 10\n",
      "6 11\n",
      "7 12\n",
      "8 13\n",
      "9 14\n",
      "10 15\n"
     ]
    }
   ],
   "source": [
    "L = [5, 6, 7, 8, 9, 10, 11, 12, 13, 14, 15]\n",
    "for i, val in enumerate(L):\n",
    "    print i, val"
   ]
  },
  {
   "cell_type": "markdown",
   "metadata": {},
   "source": [
    "###zip\n",
    "- Otras veces, es posible que tengas varias listas que desees repetir de forma simultánea.\n",
    "- Si las listas son  de diferentes longitudes, la más corta determinará la longitud del zip.\n"
   ]
  },
  {
   "cell_type": "code",
   "execution_count": 24,
   "metadata": {
    "collapsed": false
   },
   "outputs": [
    {
     "name": "stdout",
     "output_type": "stream",
     "text": [
      "2 3\n",
      "4 6\n",
      "6 9\n",
      "18 12\n",
      "10 15\n"
     ]
    }
   ],
   "source": [
    "L = [2, 4, 6, 18, 10]\n",
    "R = [3, 6, 9, 12, 15, 16, 17, 20, 21]\n",
    "for lval, rval in zip(L, R):\n",
    "    print lval, rval"
   ]
  },
  {
   "cell_type": "markdown",
   "metadata": {},
   "source": [
    "###map y filter\n",
    "- El iterador map toma una función y lo aplica a los valores en un iterador.\n",
    "- El iterador filter es similar, excepto que sólo pasa a través de los valores para los que la función de filtro se evalúa como True"
   ]
  },
  {
   "cell_type": "code",
   "execution_count": 28,
   "metadata": {
    "collapsed": false
   },
   "outputs": [
    {
     "name": "stdout",
     "output_type": "stream",
     "text": [
      "0 1 4 9 16 25 36 49 64 81\n"
     ]
    }
   ],
   "source": [
    "### Ejemplo de map\n",
    "\n",
    "# find the first ten square numbers\n",
    "\n",
    "square = lambda x: x ** 2\n",
    "for val in map(square, xrange(10)):\n",
    "    print val,"
   ]
  },
  {
   "cell_type": "code",
   "execution_count": 27,
   "metadata": {
    "collapsed": false
   },
   "outputs": [
    {
     "name": "stdout",
     "output_type": "stream",
     "text": [
      "0 2 4 6 8\n"
     ]
    }
   ],
   "source": [
    "### Ejemplo de filter\n",
    "\n",
    "# find values up to 10 for which x % 2 is zero\n",
    "\n",
    "is_even = lambda x: x % 2 == 0\n",
    "for val in filter(is_even, xrange(10)):\n",
    "    print val,"
   ]
  },
  {
   "cell_type": "markdown",
   "metadata": {},
   "source": [
    "##Iteradores avanzados"
   ]
  },
  {
   "cell_type": "code",
   "execution_count": 37,
   "metadata": {
    "collapsed": false
   },
   "outputs": [
    {
     "name": "stdout",
     "output_type": "stream",
     "text": [
      "[(0, 1, 2), (0, 2, 1), (1, 0, 2), (1, 2, 0), (2, 0, 1), (2, 1, 0)]\n"
     ]
    }
   ],
   "source": [
    "from itertools import permutations\n",
    "p = permutations(xrange(3))\n",
    "print(*p)    ### Esto funciona para Python 3\n",
    "#(0, 1, 2) (0, 2, 1) (1, 0, 2) (1, 2, 0) (2, 0, 1) (2, 1, 0)"
   ]
  },
  {
   "cell_type": "code",
   "execution_count": 39,
   "metadata": {
    "collapsed": false
   },
   "outputs": [
    {
     "ename": "SyntaxError",
     "evalue": "invalid syntax (<ipython-input-39-bd3a6d7a96c2>, line 3)",
     "output_type": "error",
     "traceback": [
      "\u001b[1;36m  File \u001b[1;32m\"<ipython-input-39-bd3a6d7a96c2>\"\u001b[1;36m, line \u001b[1;32m3\u001b[0m\n\u001b[1;33m    print(*c)### Esto funciona para Python 3\u001b[0m\n\u001b[1;37m          ^\u001b[0m\n\u001b[1;31mSyntaxError\u001b[0m\u001b[1;31m:\u001b[0m invalid syntax\n"
     ]
    }
   ],
   "source": [
    "from itertools import combinations\n",
    "c = combinations(range(4), 2)\n",
    "print(*c)### Esto funciona para Python 3\n",
    "(0, 1) (0, 2) (0, 3) (1, 2) (1, 3) (2, 3)"
   ]
  },
  {
   "cell_type": "code",
   "execution_count": 38,
   "metadata": {
    "collapsed": false
   },
   "outputs": [
    {
     "ename": "SyntaxError",
     "evalue": "invalid syntax (<ipython-input-38-036fe927d05b>, line 3)",
     "output_type": "error",
     "traceback": [
      "\u001b[1;36m  File \u001b[1;32m\"<ipython-input-38-036fe927d05b>\"\u001b[1;36m, line \u001b[1;32m3\u001b[0m\n\u001b[1;33m    print(*p)### Esto funciona para Python 3\u001b[0m\n\u001b[1;37m          ^\u001b[0m\n\u001b[1;31mSyntaxError\u001b[0m\u001b[1;31m:\u001b[0m invalid syntax\n"
     ]
    }
   ],
   "source": [
    "from itertools import product\n",
    "p = product('ab', range(3))\n",
    "print(*p)### Esto funciona para Python 3\n",
    "('a', 0) ('a', 1) ('a', 2) ('b', 0) ('b', 1) ('b', 2)"
   ]
  },
  {
   "cell_type": "markdown",
   "metadata": {},
   "source": [
    "###Lista de comprensión basicas\n",
    "Las listas por comprensión son simplemente una manera de comprimir una lista construida por un loop for en una sola línea corta.\n"
   ]
  },
  {
   "cell_type": "code",
   "execution_count": 49,
   "metadata": {
    "collapsed": false
   },
   "outputs": [
    {
     "name": "stdout",
     "output_type": "stream",
     "text": [
      "[0, 1, 4, 9, 16, 25, 36, 49, 64, 81, 100, 121]\n"
     ]
    }
   ],
   "source": [
    "L = []\n",
    "for n in xrange(12):\n",
    "    L.append(n ** 2)\n",
    "print L"
   ]
  },
  {
   "cell_type": "code",
   "execution_count": 48,
   "metadata": {
    "collapsed": false
   },
   "outputs": [
    {
     "data": {
      "text/plain": [
       "[0, 1, 4, 9, 16, 25, 36, 49, 64, 81, 100, 121]"
      ]
     },
     "execution_count": 48,
     "metadata": {},
     "output_type": "execute_result"
    }
   ],
   "source": [
    "# Lista comprimida\n",
    "\n",
    "[n ** 2 for n in xrange(12)]"
   ]
  },
  {
   "cell_type": "markdown",
   "metadata": {},
   "source": [
    "###Iteración múltiple\n",
    "Si quieremos construir una lista no sólo de un valor, sino de dos. Para ello, sólo tienemos que añadir otra expresión for en la comprensión."
   ]
  },
  {
   "cell_type": "code",
   "execution_count": 50,
   "metadata": {
    "collapsed": false
   },
   "outputs": [
    {
     "data": {
      "text/plain": [
       "[(0, 0), (0, 1), (0, 2), (1, 0), (1, 1), (1, 2)]"
      ]
     },
     "execution_count": 50,
     "metadata": {},
     "output_type": "execute_result"
    }
   ],
   "source": [
    "[(i, j) for i in range(2) for j in range(3)]"
   ]
  },
  {
   "cell_type": "markdown",
   "metadata": {},
   "source": [
    "###Condicionales sobre el iterador\n",
    "Se puede controlar aún más la iteración mediante la adición de un condicional al final de la expresión"
   ]
  },
  {
   "cell_type": "code",
   "execution_count": 52,
   "metadata": {
    "collapsed": false
   },
   "outputs": [
    {
     "data": {
      "text/plain": [
       "[1, 2, 4, 5, 7, 8, 10, 11, 13, 14, 16, 17, 19]"
      ]
     },
     "execution_count": 52,
     "metadata": {},
     "output_type": "execute_result"
    }
   ],
   "source": [
    "## Construir una lista de valores para cada valor hasta 20, pero sólo si el valor no es divisible por 3\n",
    "[val for val in xrange(20) if val % 3 > 0]"
   ]
  },
  {
   "cell_type": "markdown",
   "metadata": {},
   "source": [
    "###Condicionales sobre el valor\n"
   ]
  },
  {
   "cell_type": "code",
   "execution_count": 53,
   "metadata": {
    "collapsed": false
   },
   "outputs": [
    {
     "data": {
      "text/plain": [
       "[1, -2, -4, 5, 7, -8, -10, 11, 13, -14, -16, 17, 19]"
      ]
     },
     "execution_count": 53,
     "metadata": {},
     "output_type": "execute_result"
    }
   ],
   "source": [
    "##  Lo que estamos haciendo es construir una lista, dejando fuera a los múltiplos de 3, y negando todas mutliples de 2\n",
    "[val if val % 2 else -val\n",
    " for val in range(20) if val % 3]"
   ]
  },
  {
   "cell_type": "markdown",
   "metadata": {},
   "source": [
    "##Otros Tipos de Comprensiones\n",
    "####Set Comprensión\n",
    "Podemos crear un set en lugar de una lista utilizando llaves\n"
   ]
  },
  {
   "cell_type": "code",
   "execution_count": 54,
   "metadata": {
    "collapsed": false
   },
   "outputs": [
    {
     "data": {
      "text/plain": [
       "{0, 1, 4, 9, 16, 25, 36, 49, 64, 81, 100, 121}"
      ]
     },
     "execution_count": 54,
     "metadata": {},
     "output_type": "execute_result"
    }
   ],
   "source": [
    "{n**2 for n in range(12)}"
   ]
  },
  {
   "cell_type": "markdown",
   "metadata": {},
   "source": [
    "####Dict Comprensión\n",
    "También se puede crear directamente un diccionario con la sintaxis de comprensión. La clave es usar las llaves, y el uso de dos puntos (:) para separar las keys y valores"
   ]
  },
  {
   "cell_type": "code",
   "execution_count": 55,
   "metadata": {
    "collapsed": false
   },
   "outputs": [
    {
     "data": {
      "text/plain": [
       "{0: 0, 1: 1, 2: 4, 3: 9, 4: 16, 5: 25}"
      ]
     },
     "execution_count": 55,
     "metadata": {},
     "output_type": "execute_result"
    }
   ],
   "source": [
    "### En python 2:\n",
    "\n",
    "dict((n, n**2) for n in range(6))"
   ]
  },
  {
   "cell_type": "code",
   "execution_count": 56,
   "metadata": {
    "collapsed": false
   },
   "outputs": [
    {
     "data": {
      "text/plain": [
       "{0: 0, 1: 1, 2: 4, 3: 9, 4: 16, 5: 25}"
      ]
     },
     "execution_count": 56,
     "metadata": {},
     "output_type": "execute_result"
    }
   ],
   "source": [
    "{n:n**2 for n in range(6)}"
   ]
  },
  {
   "cell_type": "markdown",
   "metadata": {},
   "source": [
    "###Generadores de Expresión\n",
    "\n",
    "- Es otra forma en la cual son creados objetos iteradores\n",
    "- Si se utiliza paréntesis estándar en lugar de corchetes, se obtiene lo que se llama generadores de expresión, que es esencialmente una lista por comprensión."
   ]
  },
  {
   "cell_type": "code",
   "execution_count": 58,
   "metadata": {
    "collapsed": false
   },
   "outputs": [
    {
     "data": {
      "text/plain": [
       "<generator object <genexpr> at 0x7ffb341474b0>"
      ]
     },
     "execution_count": 58,
     "metadata": {},
     "output_type": "execute_result"
    }
   ],
   "source": [
    "(n**2 for n in xrange(12))"
   ]
  },
  {
   "cell_type": "code",
   "execution_count": 41,
   "metadata": {
    "collapsed": false
   },
   "outputs": [],
   "source": [
    "a = (n**2 for n in range(12))\n",
    "print(*a)"
   ]
  },
  {
   "cell_type": "markdown",
   "metadata": {
    "collapsed": true
   },
   "source": [
    "##Generadores\n",
    "###List Comprehensions vs Generator Expressions\n",
    "La expresión del generador no se imprime el contenido; una manera de imprimir el contenido de una expresión del generadora es pasarlo al constructor list."
   ]
  },
  {
   "cell_type": "code",
   "execution_count": 2,
   "metadata": {
    "collapsed": false
   },
   "outputs": [
    {
     "data": {
      "text/plain": [
       "[0, 1, 4, 9, 16, 25, 36, 49, 64, 81, 100, 121]"
      ]
     },
     "execution_count": 2,
     "metadata": {},
     "output_type": "execute_result"
    }
   ],
   "source": [
    "G = (n ** 2 for n in range(12))\n",
    "list(G)"
   ]
  },
  {
   "cell_type": "markdown",
   "metadata": {},
   "source": [
    "###Una lista es un conjunto de valores, mientras que un generador es una receta para la producción de valores\n",
    "- Al crear una lista, en realidad se está construyendo una colección de valores, y hay algún costo memoria asociada con eso. \n",
    "- Cuando se crea un generador, no se está construyendo una colección de valores, sino una receta para la producción de esos valores. Entonces hay un uso menor de memoria y un aumento en la eficiencia computacional."
   ]
  },
  {
   "cell_type": "code",
   "execution_count": 3,
   "metadata": {
    "collapsed": false
   },
   "outputs": [
    {
     "name": "stdout",
     "output_type": "stream",
     "text": [
      "0 1 4 9 16 25 36 49 64 81 100 121\n"
     ]
    }
   ],
   "source": [
    "L = [n ** 2 for n in xrange(12)]\n",
    "for val in L:\n",
    "    print val,"
   ]
  },
  {
   "cell_type": "code",
   "execution_count": 4,
   "metadata": {
    "collapsed": false
   },
   "outputs": [
    {
     "name": "stdout",
     "output_type": "stream",
     "text": [
      "0 1 4 9 16 25 36 49 64 81 100 121\n"
     ]
    }
   ],
   "source": [
    "G = (n ** 2 for n in xrange(12))\n",
    "for val in G:\n",
    "    print val,"
   ]
  },
  {
   "cell_type": "markdown",
   "metadata": {},
   "source": [
    "###Una lista puede repetirse varias veces; una expresión generadora es de un solo uso\n"
   ]
  },
  {
   "cell_type": "code",
   "execution_count": 5,
   "metadata": {
    "collapsed": false
   },
   "outputs": [
    {
     "name": "stdout",
     "output_type": "stream",
     "text": [
      "[0, 1, 4, 9, 16, 25, 36, 49, 64, 81, 100, 121]\n",
      "[]\n"
     ]
    }
   ],
   "source": [
    "G = (n ** 2 for n in range(12))\n",
    "print(list(G))\n",
    "print(list(G))"
   ]
  },
  {
   "cell_type": "markdown",
   "metadata": {},
   "source": [
    "##Funciones Generator: yield\n",
    "Una función de generador es una función que, en lugar de utilizar return para devolver un valor una vez, utiliza yield para producir una (potencialmente infinita) cadena de valores."
   ]
  },
  {
   "cell_type": "code",
   "execution_count": 10,
   "metadata": {
    "collapsed": false
   },
   "outputs": [
    {
     "name": "stdout",
     "output_type": "stream",
     "text": [
      "[0, 1, 4, 9, 16, 25, 36, 49, 64, 81, 100, 121]\n",
      "[0, 1, 4, 9, 16, 25, 36, 49, 64, 81, 100, 121]\n"
     ]
    }
   ],
   "source": [
    "G1 = (n ** 2 for n in xrange(12))\n",
    "def gen():\n",
    "    for n in xrange(12):\n",
    "        yield n ** 2\n",
    "G2 = gen()\n",
    "print list(G1)## Aca estaba escrito asi: print(*G1) pero esto en python 2 arroja un error!!\n",
    "print list(G2)"
   ]
  },
  {
   "cell_type": "markdown",
   "metadata": {},
   "source": [
    "#Modulos y Paquetes\n",
    "- Una característica de Python que lo hace útil para una amplia gama de tareas es el hecho de que se trata de una gran biblioteca estándar que contiene herramientas útiles para una amplia gama de tareas.\n",
    "- Además de esto, hay un amplio ecosistema de herramientas de terceros y paquetes que pueden instalarse fácilmente con una variedad de herramientas.\n",
    "\n",
    "##Cargando Módulos: la sentencia import\n",
    "\n",
    "- Para la carga Built-in y módulos de terceros, Python proporciona la sentencia import."
   ]
  },
  {
   "cell_type": "code",
   "execution_count": 11,
   "metadata": {
    "collapsed": false
   },
   "outputs": [
    {
     "data": {
      "text/plain": [
       "-1.0"
      ]
     },
     "execution_count": 11,
     "metadata": {},
     "output_type": "execute_result"
    }
   ],
   "source": [
    "import math\n",
    "math.cos(math.pi)"
   ]
  },
  {
   "cell_type": "markdown",
   "metadata": {},
   "source": [
    "###Importación explícita de módulo por alias"
   ]
  },
  {
   "cell_type": "code",
   "execution_count": 12,
   "metadata": {
    "collapsed": false
   },
   "outputs": [
    {
     "data": {
      "text/plain": [
       "-1.0"
      ]
     },
     "execution_count": 12,
     "metadata": {},
     "output_type": "execute_result"
    }
   ],
   "source": [
    "import numpy as np\n",
    "np.cos(np.pi)"
   ]
  },
  {
   "cell_type": "markdown",
   "metadata": {},
   "source": [
    "###Importación explícita del contenido del módulo"
   ]
  },
  {
   "cell_type": "code",
   "execution_count": 13,
   "metadata": {
    "collapsed": false
   },
   "outputs": [
    {
     "data": {
      "text/plain": [
       "-1.0"
      ]
     },
     "execution_count": 13,
     "metadata": {},
     "output_type": "execute_result"
    }
   ],
   "source": [
    "from math import cos, pi\n",
    "cos(pi)"
   ]
  },
  {
   "cell_type": "markdown",
   "metadata": {},
   "source": [
    "###Importación implícita del contenido del módulo"
   ]
  },
  {
   "cell_type": "code",
   "execution_count": 14,
   "metadata": {
    "collapsed": false
   },
   "outputs": [
    {
     "data": {
      "text/plain": [
       "1.0"
      ]
     },
     "execution_count": 14,
     "metadata": {},
     "output_type": "execute_result"
    }
   ],
   "source": [
    "from math import *\n",
    "sin(pi) ** 2 + cos(pi) ** 2"
   ]
  },
  {
   "cell_type": "code",
   "execution_count": 15,
   "metadata": {
    "collapsed": false
   },
   "outputs": [
    {
     "data": {
      "text/plain": [
       "9"
      ]
     },
     "execution_count": 15,
     "metadata": {},
     "output_type": "execute_result"
    }
   ],
   "source": [
    "sum(range(5), -1)"
   ]
  },
  {
   "cell_type": "code",
   "execution_count": 42,
   "metadata": {
    "collapsed": false
   },
   "outputs": [
    {
     "data": {
      "text/plain": [
       "10"
      ]
     },
     "execution_count": 42,
     "metadata": {},
     "output_type": "execute_result"
    }
   ],
   "source": [
    "from numpy import *\n",
    "sum(range(5), -1)"
   ]
  },
  {
   "cell_type": "markdown",
   "metadata": {},
   "source": [
    "#### La razón de esto es que la declaración de importación * sobrescribe la función suma integrada con la función numpy.sum, que tiene una asignación de llamada diferente"
   ]
  },
  {
   "cell_type": "markdown",
   "metadata": {},
   "source": [
    "#Manipulación de String y expresiones regulares\n",
    "##Formateo de String: Casos de Ajuste\n"
   ]
  },
  {
   "cell_type": "code",
   "execution_count": 23,
   "metadata": {
    "collapsed": false
   },
   "outputs": [
    {
     "name": "stdout",
     "output_type": "stream",
     "text": [
      "THE QUICK BROWN FOX.\n",
      "the quick brown fox.\n"
     ]
    }
   ],
   "source": [
    "fox = \"tHe qUICk bROWn fOx.\"\n",
    "a = fox.upper()\n",
    "b = fox.lower()\n",
    "print a\n",
    "print b"
   ]
  },
  {
   "cell_type": "code",
   "execution_count": 24,
   "metadata": {
    "collapsed": false
   },
   "outputs": [
    {
     "name": "stdout",
     "output_type": "stream",
     "text": [
      "The Quick Brown Fox.\n",
      "The quick brown fox.\n"
     ]
    }
   ],
   "source": [
    "a = fox.title()\n",
    "b = fox.capitalize()\n",
    "print a\n",
    "print b"
   ]
  },
  {
   "cell_type": "code",
   "execution_count": 25,
   "metadata": {
    "collapsed": false
   },
   "outputs": [
    {
     "data": {
      "text/plain": [
       "'ThE QuicK BrowN FoX.'"
      ]
     },
     "execution_count": 25,
     "metadata": {},
     "output_type": "execute_result"
    }
   ],
   "source": [
    "fox.swapcase()"
   ]
  },
  {
   "cell_type": "markdown",
   "metadata": {},
   "source": [
    "##Formateo de String: Adición y eliminación de espacios"
   ]
  },
  {
   "cell_type": "code",
   "execution_count": 33,
   "metadata": {
    "collapsed": false
   },
   "outputs": [
    {
     "data": {
      "text/plain": [
       "'this is the content'"
      ]
     },
     "execution_count": 33,
     "metadata": {},
     "output_type": "execute_result"
    }
   ],
   "source": [
    "line = \"     this is the content     \"\n",
    "line.strip()"
   ]
  },
  {
   "cell_type": "code",
   "execution_count": 34,
   "metadata": {
    "collapsed": false
   },
   "outputs": [
    {
     "data": {
      "text/plain": [
       "'     this is the content'"
      ]
     },
     "execution_count": 34,
     "metadata": {},
     "output_type": "execute_result"
    }
   ],
   "source": [
    "line.rstrip()"
   ]
  },
  {
   "cell_type": "code",
   "execution_count": 35,
   "metadata": {
    "collapsed": false
   },
   "outputs": [
    {
     "data": {
      "text/plain": [
       "'this is the content     '"
      ]
     },
     "execution_count": 35,
     "metadata": {},
     "output_type": "execute_result"
    }
   ],
   "source": [
    "line.lstrip()"
   ]
  },
  {
   "cell_type": "code",
   "execution_count": 36,
   "metadata": {
    "collapsed": false
   },
   "outputs": [
    {
     "data": {
      "text/plain": [
       "'     this is the content      '"
      ]
     },
     "execution_count": 36,
     "metadata": {},
     "output_type": "execute_result"
    }
   ],
   "source": [
    "line = \"this is the content\"\n",
    "line.center(30)"
   ]
  },
  {
   "cell_type": "markdown",
   "metadata": {},
   "source": [
    "line.ljust(30)"
   ]
  },
  {
   "cell_type": "code",
   "execution_count": 38,
   "metadata": {
    "collapsed": false
   },
   "outputs": [
    {
     "data": {
      "text/plain": [
       "'           this is the content'"
      ]
     },
     "execution_count": 38,
     "metadata": {},
     "output_type": "execute_result"
    }
   ],
   "source": [
    "line.rjust(30)"
   ]
  },
  {
   "cell_type": "code",
   "execution_count": 39,
   "metadata": {
    "collapsed": false
   },
   "outputs": [
    {
     "data": {
      "text/plain": [
       "'0000000435'"
      ]
     },
     "execution_count": 39,
     "metadata": {},
     "output_type": "execute_result"
    }
   ],
   "source": [
    "'435'.rjust(10, '0')"
   ]
  },
  {
   "cell_type": "markdown",
   "metadata": {},
   "source": [
    "##Búsqueda y sustitución de subcadenas"
   ]
  },
  {
   "cell_type": "code",
   "execution_count": 46,
   "metadata": {
    "collapsed": false
   },
   "outputs": [
    {
     "data": {
      "text/plain": [
       "16"
      ]
     },
     "execution_count": 46,
     "metadata": {},
     "output_type": "execute_result"
    }
   ],
   "source": [
    "line = 'the quick brown fox jumped over a lazy dog'\n",
    "line.find('fox')"
   ]
  },
  {
   "cell_type": "code",
   "execution_count": 45,
   "metadata": {
    "collapsed": false
   },
   "outputs": [
    {
     "data": {
      "text/plain": [
       "16"
      ]
     },
     "execution_count": 45,
     "metadata": {},
     "output_type": "execute_result"
    }
   ],
   "source": [
    "line.index('fox')"
   ]
  },
  {
   "cell_type": "markdown",
   "metadata": {},
   "source": [
    "###La única diferencia entre find() y index() es su comportamiento cuando no se encuentra la cadena de búsqueda; find() devuelve -1, mientras que el índex() plantea una ValueError"
   ]
  },
  {
   "cell_type": "code",
   "execution_count": 46,
   "metadata": {
    "collapsed": false
   },
   "outputs": [
    {
     "data": {
      "text/plain": [
       "35"
      ]
     },
     "execution_count": 46,
     "metadata": {},
     "output_type": "execute_result"
    }
   ],
   "source": [
    "line.rfind('a')"
   ]
  },
  {
   "cell_type": "markdown",
   "metadata": {},
   "source": [
    "###Para el caso especial de la comprobación de una subcadena al principio o al final de una cadena, Python proporciona los metodos startswith() y endswith()."
   ]
  },
  {
   "cell_type": "code",
   "execution_count": 47,
   "metadata": {
    "collapsed": false
   },
   "outputs": [
    {
     "data": {
      "text/plain": [
       "True"
      ]
     },
     "execution_count": 47,
     "metadata": {},
     "output_type": "execute_result"
    }
   ],
   "source": [
    "line.endswith('dog')"
   ]
  },
  {
   "cell_type": "code",
   "execution_count": 48,
   "metadata": {
    "collapsed": false
   },
   "outputs": [
    {
     "data": {
      "text/plain": [
       "False"
      ]
     },
     "execution_count": 48,
     "metadata": {},
     "output_type": "execute_result"
    }
   ],
   "source": [
    "line.startswith('fox')"
   ]
  },
  {
   "cell_type": "code",
   "execution_count": 49,
   "metadata": {
    "collapsed": false
   },
   "outputs": [
    {
     "data": {
      "text/plain": [
       "'the quick red fox jumped over a lazy dog'"
      ]
     },
     "execution_count": 49,
     "metadata": {},
     "output_type": "execute_result"
    }
   ],
   "source": [
    "line.replace('brown', 'red')"
   ]
  },
  {
   "cell_type": "code",
   "execution_count": 50,
   "metadata": {
    "collapsed": false
   },
   "outputs": [
    {
     "data": {
      "text/plain": [
       "'the quick br--wn f--x jumped --ver a lazy d--g'"
      ]
     },
     "execution_count": 50,
     "metadata": {},
     "output_type": "execute_result"
    }
   ],
   "source": [
    "line.replace('o', '--')"
   ]
  },
  {
   "cell_type": "markdown",
   "metadata": {},
   "source": [
    "##División y partición del String\n",
    "El metodo partition() devuelve una tupla con tres elementos: la subcadena antes de la primera instancia del punto de división, el punto de división en sí, y la posterior subcadena:"
   ]
  },
  {
   "cell_type": "code",
   "execution_count": 51,
   "metadata": {
    "collapsed": false
   },
   "outputs": [
    {
     "data": {
      "text/plain": [
       "('the quick brown ', 'fox', ' jumped over a lazy dog')"
      ]
     },
     "execution_count": 51,
     "metadata": {},
     "output_type": "execute_result"
    }
   ],
   "source": [
    "line.partition('fox')"
   ]
  },
  {
   "cell_type": "code",
   "execution_count": 52,
   "metadata": {
    "collapsed": false
   },
   "outputs": [
    {
     "data": {
      "text/plain": [
       "['the', 'quick', 'brown', 'fox', 'jumped', 'over', 'a', 'lazy', 'dog']"
      ]
     },
     "execution_count": 52,
     "metadata": {},
     "output_type": "execute_result"
    }
   ],
   "source": [
    "line.split()"
   ]
  },
  {
   "cell_type": "code",
   "execution_count": 53,
   "metadata": {
    "collapsed": false
   },
   "outputs": [
    {
     "data": {
      "text/plain": [
       "['matsushima-ya', 'aah matsushima-ya', 'matsushima-ya']"
      ]
     },
     "execution_count": 53,
     "metadata": {},
     "output_type": "execute_result"
    }
   ],
   "source": [
    "haiku = \"\"\"matsushima-ya\n",
    "aah matsushima-ya\n",
    "matsushima-ya\"\"\"\n",
    "\n",
    "haiku.splitlines()"
   ]
  },
  {
   "cell_type": "code",
   "execution_count": 44,
   "metadata": {
    "collapsed": false
   },
   "outputs": [
    {
     "name": "stdout",
     "output_type": "stream",
     "text": [
      "matsushima-ya\n",
      "aah matsushima-ya\n",
      "matsushima-ya\n"
     ]
    }
   ],
   "source": [
    "## Se puede utilizar el método join(), que devuelve una cadena construida a partir de un punto de división:\n",
    "\n",
    "print(\"\\n\".join(['matsushima-ya', 'aah matsushima-ya', 'matsushima-ya']))"
   ]
  },
  {
   "cell_type": "markdown",
   "metadata": {
    "collapsed": true
   },
   "source": [
    "##Formato del String\n",
    "Otro uso de los métodos de cadena es manipular las representaciones de la cadena de valores de otros tipos. Estas representaciones de cadena se pueden encontrar mediante la función str(); por ejemplo:"
   ]
  },
  {
   "cell_type": "code",
   "execution_count": 7,
   "metadata": {
    "collapsed": false
   },
   "outputs": [
    {
     "data": {
      "text/plain": [
       "'3.14159'"
      ]
     },
     "execution_count": 7,
     "metadata": {},
     "output_type": "execute_result"
    }
   ],
   "source": [
    "pi = 3.14159\n",
    "str(pi)"
   ]
  },
  {
   "cell_type": "code",
   "execution_count": 8,
   "metadata": {
    "collapsed": false
   },
   "outputs": [
    {
     "data": {
      "text/plain": [
       "'The value of pi is 3.14159'"
      ]
     },
     "execution_count": 8,
     "metadata": {},
     "output_type": "execute_result"
    }
   ],
   "source": [
    "\"The value of pi is \" + str(pi)"
   ]
  },
  {
   "cell_type": "code",
   "execution_count": 9,
   "metadata": {
    "collapsed": false
   },
   "outputs": [
    {
     "data": {
      "text/plain": [
       "'The value of pi is 3.14159'"
      ]
     },
     "execution_count": 9,
     "metadata": {},
     "output_type": "execute_result"
    }
   ],
   "source": [
    "\"The value of pi is {}\".format(pi)"
   ]
  },
  {
   "cell_type": "markdown",
   "metadata": {},
   "source": [
    "##Patrón de coincidencia flexible con expresiones regulares\n",
    "\n",
    "En la interfaz de Python para las expresiones regulares está contenida en la Built-in en el módulo re; como un ejemplo sencillo, vamos a usar para duplicar la funcionalidad del método de string split():"
   ]
  },
  {
   "cell_type": "code",
   "execution_count": 52,
   "metadata": {
    "collapsed": false
   },
   "outputs": [
    {
     "data": {
      "text/plain": [
       "['the', 'quick', 'brown', 'fox', 'jumped', 'over', 'a', 'lazy', 'dog']"
      ]
     },
     "execution_count": 52,
     "metadata": {},
     "output_type": "execute_result"
    }
   ],
   "source": [
    "import re\n",
    "regex = re.compile('\\s+')\n",
    "regex.split(line)"
   ]
  },
  {
   "cell_type": "markdown",
   "metadata": {},
   "source": [
    "La entrada \"\\s+\": \"\\s\" es un carácter especial que coincide con cualquier espacio en blanco (espacio, tabulador, nueva línea, etc.), y el \"+\" es un carácter que indica uno o más entidad que precede a la misma.\n",
    "\n",
    "#Conceptos básicos de la sintaxis de expresiones regulares\n",
    "\n",
    "##1. cadenas simples se corresponden directamente.\n",
    "Esto casi es evidente. Si usted construye una expresión regular en una simple cadena de caracteres o dígitos, que coincidirá exactamente esa cadena"
   ]
  },
  {
   "cell_type": "code",
   "execution_count": 13,
   "metadata": {
    "collapsed": false
   },
   "outputs": [
    {
     "data": {
      "text/plain": [
       "['ion']"
      ]
     },
     "execution_count": 13,
     "metadata": {},
     "output_type": "execute_result"
    }
   ],
   "source": [
    "regex = re.compile('ion')\n",
    "regex.findall('Great Expectations')"
   ]
  },
  {
   "cell_type": "markdown",
   "metadata": {},
   "source": [
    "##2. Algunos caracteres tienen un significado especial.\n",
    "Hay un puñado de caracteres que tienen significados especiales dentro de las expresiones regulares. Ellos son:\n",
    "\n",
    "# . ^ $ * + ? { } [ ] \\ | ( ) \n",
    "\n",
    "##3. Los caracteres especiales pueden igualar grupos de caracteres.\n",
    "\n",
    "<img src=\"img/Caracter_esp.png\">\n",
    "\n",
    "Por ejemplo, podemos crear una expresión regular que se han encontrado dos letras/dígitos con espacios en blanco entre ellos:"
   ]
  },
  {
   "cell_type": "code",
   "execution_count": 14,
   "metadata": {
    "collapsed": false
   },
   "outputs": [
    {
     "data": {
      "text/plain": [
       "['e f', 'x i', 's 9', 's o']"
      ]
     },
     "execution_count": 14,
     "metadata": {},
     "output_type": "execute_result"
    }
   ],
   "source": [
    "regex = re.compile(r'\\w\\s\\w')\n",
    "regex.findall('the fox is 9 years old')"
   ]
  },
  {
   "cell_type": "markdown",
   "metadata": {},
   "source": [
    "##4. Los corchetes se ajustan a grupos de caracteres personalizados\n",
    "\n",
    "Los grupos integrados de caracteres anteriores no son lo suficientemente específicas para usted, usted puede utilizar corchetes para especificar cualquier conjunto de caracteres que le interesa. Por ejemplo, la siguiente coincidirá con cualquier minúscula\n",
    "vocal:"
   ]
  },
  {
   "cell_type": "code",
   "execution_count": 15,
   "metadata": {
    "collapsed": false
   },
   "outputs": [
    {
     "data": {
      "text/plain": [
       "['c', 'ns', 'q', '', 'nt', '', 'l']"
      ]
     },
     "execution_count": 15,
     "metadata": {},
     "output_type": "execute_result"
    }
   ],
   "source": [
    "regex = re.compile('[aeiou]')\n",
    "regex.split('consequential')"
   ]
  },
  {
   "cell_type": "markdown",
   "metadata": {},
   "source": [
    "##5. Los comodines coinciden caracteres repetidos.\n",
    "\n",
    "La siguiente es una tabla de los marcadores de repetición disponibles para su uso en expresiones regulares:\n",
    "\n",
    "<img src=\"img/marke.png\">\n"
   ]
  },
  {
   "cell_type": "code",
   "execution_count": 19,
   "metadata": {
    "collapsed": false
   },
   "outputs": [
    {
     "data": {
      "text/plain": [
       "['The', 'qui', 'bro', 'fox']"
      ]
     },
     "execution_count": 19,
     "metadata": {},
     "output_type": "execute_result"
    }
   ],
   "source": [
    "regex = re.compile(r'\\w{3}')\n",
    "regex.findall('The quick brown fox')"
   ]
  },
  {
   "cell_type": "code",
   "execution_count": null,
   "metadata": {
    "collapsed": true
   },
   "outputs": [],
   "source": []
  }
 ],
 "metadata": {
  "kernelspec": {
   "display_name": "Python 2",
   "language": "python",
   "name": "python2"
  },
  "language_info": {
   "codemirror_mode": {
    "name": "ipython",
    "version": 2
   },
   "file_extension": ".py",
   "mimetype": "text/x-python",
   "name": "python",
   "nbconvert_exporter": "python",
   "pygments_lexer": "ipython2",
   "version": "2.7.10"
  }
 },
 "nbformat": 4,
 "nbformat_minor": 0
}
